{
 "metadata": {
  "language_info": {
   "codemirror_mode": {
    "name": "ipython",
    "version": 3
   },
   "file_extension": ".py",
   "mimetype": "text/x-python",
   "name": "python",
   "nbconvert_exporter": "python",
   "pygments_lexer": "ipython3",
   "version": "3.8.3-final"
  },
  "orig_nbformat": 2,
  "kernelspec": {
   "name": "python3",
   "display_name": "Python 3"
  }
 },
 "nbformat": 4,
 "nbformat_minor": 2,
 "cells": [
  {
   "source": [
    "# Scrape stackoverflow questions by Tags"
   ],
   "cell_type": "markdown",
   "metadata": {}
  },
  {
   "cell_type": "code",
   "execution_count": 16,
   "metadata": {},
   "outputs": [],
   "source": [
    "import requests\n",
    "from requests_html import HTML\n"
   ]
  },
  {
   "cell_type": "code",
   "execution_count": 17,
   "metadata": {},
   "outputs": [
    {
     "output_type": "execute_result",
     "data": {
      "text/plain": [
       "'https://stackoverflow.com/questions/tagged/python'"
      ]
     },
     "metadata": {},
     "execution_count": 17
    }
   ],
   "source": [
    "base_url = \"https://stackoverflow.com/questions/tagged/\"\n",
    "tag = \"python\"\n",
    "url = f\"{base_url}{tag}\"\n",
    "url"
   ]
  },
  {
   "cell_type": "code",
   "execution_count": 18,
   "metadata": {},
   "outputs": [
    {
     "output_type": "execute_result",
     "data": {
      "text/plain": [
       "200"
      ]
     },
     "metadata": {},
     "execution_count": 18
    }
   ],
   "source": [
    "r = requests.get(url)\n",
    "r.status_code"
   ]
  },
  {
   "cell_type": "code",
   "execution_count": 19,
   "metadata": {},
   "outputs": [],
   "source": [
    "html_str = r.text\n",
    "html = HTML(html=html_str)"
   ]
  },
  {
   "cell_type": "code",
   "execution_count": 20,
   "metadata": {},
   "outputs": [
    {
     "output_type": "execute_result",
     "data": {
      "text/plain": [
       "<Element 'div' class=('question-summary',) id='question-summary-65060927'>"
      ]
     },
     "metadata": {},
     "execution_count": 20
    }
   ],
   "source": [
    "question_summaries = html.find('.question-summary')\n",
    "question_summaries[0]"
   ]
  },
  {
   "cell_type": "code",
   "execution_count": 21,
   "metadata": {},
   "outputs": [
    {
     "output_type": "stream",
     "name": "stdout",
     "text": [
      "0\nvotes\n0answers\n2 views\nnot able to debug this code related to central limit theorem\nI had this problem where a maximum load of 9800 poundss could be carried in a lift. there was a cargo of boxes with average weight 205 pounds and standard deviation of 15 pounds. i had to find the ...\npython debugging math statistics\nasked 1 min ago\nPranav Pushkar\n111 bronze badge\n"
     ]
    }
   ],
   "source": [
    "print(question_summaries[0].text)"
   ]
  },
  {
   "cell_type": "code",
   "execution_count": 22,
   "metadata": {},
   "outputs": [
    {
     "output_type": "execute_result",
     "data": {
      "text/plain": [
       "['0',\n",
       " 'votes',\n",
       " '0answers',\n",
       " '2 views',\n",
       " 'not able to debug this code related to central limit theorem',\n",
       " 'I had this problem where a maximum load of 9800 poundss could be carried in a lift. there was a cargo of boxes with average weight 205 pounds and standard deviation of 15 pounds. i had to find the ...',\n",
       " 'python debugging math statistics',\n",
       " 'asked 1 min ago',\n",
       " 'Pranav Pushkar',\n",
       " '111 bronze badge']"
      ]
     },
     "metadata": {},
     "execution_count": 22
    }
   ],
   "source": [
    "cols = ['votes', 'vote_title', 'num_answers', 'views', 'question', 'short_desc', 'tags', 'date', 'user', 'user_details']\n",
    "this_row = list(question_summaries[0].text.split('\\n'))\n",
    "this_row"
   ]
  },
  {
   "cell_type": "code",
   "execution_count": 23,
   "metadata": {},
   "outputs": [
    {
     "output_type": "execute_result",
     "data": {
      "text/plain": [
       "True"
      ]
     },
     "metadata": {},
     "execution_count": 23
    }
   ],
   "source": [
    "len(this_row) == len(cols)"
   ]
  },
  {
   "cell_type": "code",
   "execution_count": 24,
   "metadata": {},
   "outputs": [
    {
     "output_type": "execute_result",
     "data": {
      "text/plain": [
       "{'votes': '0',\n",
       " 'vote_title': 'votes',\n",
       " 'num_answers': '0answers',\n",
       " 'views': '2 views',\n",
       " 'question': 'not able to debug this code related to central limit theorem',\n",
       " 'short_desc': 'I had this problem where a maximum load of 9800 poundss could be carried in a lift. there was a cargo of boxes with average weight 205 pounds and standard deviation of 15 pounds. i had to find the ...',\n",
       " 'tags': 'python debugging math statistics',\n",
       " 'date': 'asked 1 min ago',\n",
       " 'user': 'Pranav Pushkar',\n",
       " 'user_details': '111 bronze badge'}"
      ]
     },
     "metadata": {},
     "execution_count": 24
    }
   ],
   "source": [
    "row_data = dict(zip(cols, this_row))\n",
    "row_data"
   ]
  },
  {
   "cell_type": "code",
   "execution_count": 25,
   "metadata": {},
   "outputs": [
    {
     "output_type": "execute_result",
     "data": {
      "text/plain": [
       "'not able to debug this code related to central limit theorem'"
      ]
     },
     "metadata": {},
     "execution_count": 25
    }
   ],
   "source": [
    "key_names = ['question', 'votes', 'tags']\n",
    "classes_needed = ['.question-hyperlink', '.vote', '.tags']\n",
    "this_question_element = question_summaries[0]\n",
    "this_question_element.find(classes_needed[0], first=True).text"
   ]
  },
  {
   "cell_type": "code",
   "execution_count": 26,
   "metadata": {},
   "outputs": [],
   "source": [
    "def clean_scraped_data(text, key_name=None):\n",
    "    if key_name == 'votes':\n",
    "        return text.replace('\\nvotes', '')\n",
    "    elif key_name == 'tags':\n",
    "        return text.replace('\\n', '')\n",
    "    else:\n",
    "        return text"
   ]
  },
  {
   "cell_type": "code",
   "execution_count": 27,
   "metadata": {},
   "outputs": [
    {
     "output_type": "execute_result",
     "data": {
      "text/plain": [
       "{'question': 'not able to debug this code related to central limit theorem',\n",
       " 'votes': '0',\n",
       " 'tags': 'python debugging math statistics'}"
      ]
     },
     "metadata": {},
     "execution_count": 27
    }
   ],
   "source": [
    "datas = []\n",
    "for q_el in question_summaries:\n",
    "    question_data = {}\n",
    "    for i, _class in enumerate(classes_needed):\n",
    "        sub_el = q_el.find(_class, first=True)\n",
    "        # print(sub_el.text)\n",
    "        question_data[key_name[i]] = clean_scraped_data(sub_el.text, key_name=key_name[i])\n",
    "    datas.append(question_data)\n",
    "\n",
    "datas[0]"
   ]
  },
  {
   "cell_type": "code",
   "execution_count": 28,
   "metadata": {},
   "outputs": [],
   "source": [
    "def parse_tagged_page(html):\n",
    "    question_summaries = html.find('.question-summary')\n",
    "    key_names = ['question', 'votes', 'tags']\n",
    "    classes_needed = ['.question-hyperlink', '.vote', '.tags']\n",
    "    datas = []\n",
    "    for q_el in question_summaries:\n",
    "        question_data = {}\n",
    "        for i, _class in enumerate(classes_needed):\n",
    "            sub_el = q_el.find(_class, first=True)\n",
    "            # print(sub_el.text)\n",
    "            question_data[key_names[i]] = clean_scraped_data(sub_el.text, key_name=key_names[i])\n",
    "        datas.append(question_data)\n",
    "    return datas\n",
    "    "
   ]
  },
  {
   "cell_type": "code",
   "execution_count": 29,
   "metadata": {},
   "outputs": [],
   "source": [
    "def extract_data_from_url(url):\n",
    "    r = requests.get(url)\n",
    "    if r.status_code not in range(200, 299):\n",
    "        return []\n",
    "    html_str = r.text\n",
    "    html = HTML(html=html_str)\n",
    "    datas = parse_tagged_page(html)\n",
    "    return datas\n",
    "    \n"
   ]
  },
  {
   "cell_type": "code",
   "execution_count": 31,
   "metadata": {},
   "outputs": [
    {
     "output_type": "execute_result",
     "data": {
      "text/plain": [
       "'https://stackoverflow.com/questions/tagged/javascript'"
      ]
     },
     "metadata": {},
     "execution_count": 31
    }
   ],
   "source": [
    "base_url = \"https://stackoverflow.com/questions/tagged/\"\n",
    "tag = \"javascript\"\n",
    "url = f\"{base_url}{tag}\"\n",
    "url"
   ]
  },
  {
   "cell_type": "code",
   "execution_count": 32,
   "metadata": {},
   "outputs": [
    {
     "output_type": "execute_result",
     "data": {
      "text/plain": [
       "[{'question': 'Capture interactive scroll events and ignore programatic scroll?',\n",
       "  'votes': '0',\n",
       "  'tags': 'javascript scroll'},\n",
       " {'question': 'Node.js Event Loop and Call stack',\n",
       "  'votes': '1\\nvote',\n",
       "  'tags': 'javascript node.js v8 event-loop'},\n",
       " {'question': 'Is there in any php or javascript library available for printing bill on tvs rp3200 star thermal printer?',\n",
       "  'votes': '-3',\n",
       "  'tags': 'javascript php thermal-printer inventory-management'},\n",
       " {'question': 'How to create React Native Carousel/Slider for shopping app',\n",
       "  'votes': '0',\n",
       "  'tags': 'javascript reactjs react-native'},\n",
       " {'question': 'javascript dropdown select time conditioned current',\n",
       "  'votes': '0',\n",
       "  'tags': 'javascript php date time drop-down-menu'},\n",
       " {'question': 'How to chain actions with Link in React Router?',\n",
       "  'votes': '0',\n",
       "  'tags': 'javascript reactjs react-router'},\n",
       " {'question': 'Save user IP adress to DB using express/mongoose',\n",
       "  'votes': '0',\n",
       "  'tags': 'javascript node.js reactjs express mongoose'},\n",
       " {'question': '× TypeError: UpdateShelf is not a function. this error show after moving a book from one shelf to another but only for once',\n",
       "  'votes': '0',\n",
       "  'tags': 'javascript html reactjs event-handling onchange'},\n",
       " {'question': 'How to get user_link from facebook without app review',\n",
       "  'votes': '0',\n",
       "  'tags': 'javascript reactjs facebook facebook-graph-api instagram-graph-api'},\n",
       " {'question': \"Tag '<' is shown in display when i write <br> in the string\",\n",
       "  'votes': '0',\n",
       "  'tags': 'javascript'},\n",
       " {'question': 'bootstrap table filter control, filter int inouts in range',\n",
       "  'votes': '0',\n",
       "  'tags': 'javascript ajax bootstrap-4 datatable'},\n",
       " {'question': 'Requesting a JS string formatter similar to Angular routes',\n",
       "  'votes': '-1',\n",
       "  'tags': 'javascript npm printf'},\n",
       " {'question': 'CSS Transitions not working after converting from jQuery to Vanilla JS',\n",
       "  'votes': '0',\n",
       "  'tags': 'javascript html jquery css css-transitions'},\n",
       " {'question': 'how to pass data and header both in axios get request?',\n",
       "  'votes': '0',\n",
       "  'tags': 'javascript reactjs axios'},\n",
       " {'question': 'JavaScript: Use Method from an Instance',\n",
       "  'votes': '0',\n",
       "  'tags': 'javascript arrays class methods instance'},\n",
       " {'question': 'How to understand such arrow function？',\n",
       "  'votes': '0',\n",
       "  'tags': 'javascript arrow-functions'},\n",
       " {'question': \"Accessing any element in a useRef is throwing 'undefined'\",\n",
       "  'votes': '0',\n",
       "  'tags': 'javascript reactjs'},\n",
       " {'question': 'Send data between PCs (or other devices) with javascript via socket',\n",
       "  'votes': '0',\n",
       "  'tags': 'javascript html sockets server'},\n",
       " {'question': 'Unable to get AWS secret using aws-sdk - I either get missing credentials error and an object',\n",
       "  'votes': '0',\n",
       "  'tags': 'javascript amazon-web-services aws-cli aws-sdk-js aws-secrets-manager'},\n",
       " {'question': 'Timing actions in js (frame per second)',\n",
       "  'votes': '-1',\n",
       "  'tags': 'javascript html jquery css'},\n",
       " {'question': 'How to implement multi level sorting in javascript using lodash?',\n",
       "  'votes': '0',\n",
       "  'tags': 'javascript functional-programming lodash'},\n",
       " {'question': 'TableFor function from Eloquent JavaScript',\n",
       "  'votes': '-1',\n",
       "  'tags': 'javascript arrays function'},\n",
       " {'question': 'Creating a persistent ordering for a drag and drop',\n",
       "  'votes': '0',\n",
       "  'tags': 'javascript drag-and-drop'},\n",
       " {'question': 'ES6 Template Literal: How to add conditional multilines and remove extra indentation?',\n",
       "  'votes': '-1',\n",
       "  'tags': 'javascript node.js reactjs typescript ecmascript-6'},\n",
       " {'question': \"nodejs vuejs get post's comments (comments removed after add another comment)\",\n",
       "  'votes': '0',\n",
       "  'tags': 'javascript vue.js socket.io'},\n",
       " {'question': 'How to click button of prompt of webpage in javascript?',\n",
       "  'votes': '0',\n",
       "  'tags': 'javascript html node.js puppeteer webautomation'},\n",
       " {'question': 'Cant find variable : tweetsElement?',\n",
       "  'votes': '1\\nvote',\n",
       "  'tags': 'javascript'},\n",
       " {'question': 'How to bypass YouTube Age Restriction?',\n",
       "  'votes': '0',\n",
       "  'tags': 'javascript api youtube embed'},\n",
       " {'question': 'Does custom Chrome extensions impact performance profiling of a Web App?',\n",
       "  'votes': '0',\n",
       "  'tags': 'javascript google-chrome google-chrome-extension performance-testing'},\n",
       " {'question': 'Not able to set background image through react component, getting error',\n",
       "  'votes': '0',\n",
       "  'tags': 'javascript reactjs'},\n",
       " {'question': 'html table reactivity to resizing',\n",
       "  'votes': '0',\n",
       "  'tags': 'javascript css'},\n",
       " {'question': 'How to retrieve data from axios and fill it into an edit Form (select options) in Vue.js?',\n",
       "  'votes': '0',\n",
       "  'tags': 'javascript vue.js axios nestjs'},\n",
       " {'question': \"How to change vertical menu's size while scrolling\",\n",
       "  'votes': '0',\n",
       "  'tags': 'javascript html css'},\n",
       " {'question': 'ONCHANGE <SELECT> <OPTION > IN PHP MYSQL/MYSQLI SHOW ITS ROW IN TEXTBOX WITH NO AJAX [closed]',\n",
       "  'votes': '-5',\n",
       "  'tags': 'javascript php mysql'},\n",
       " {'question': \"Ionic File-transfer (cordova) Set content-type to param's value\",\n",
       "  'votes': '0',\n",
       "  'tags': 'javascript angular cordova ionic-framework multipartform-data'},\n",
       " {'question': 'How can i override a jquery function on chrome browser?',\n",
       "  'votes': '0',\n",
       "  'tags': 'javascript jquery'},\n",
       " {'question': 'Map through JSON data from API return undefinded',\n",
       "  'votes': '0',\n",
       "  'tags': 'javascript node.js reactjs'},\n",
       " {'question': 'Replace html element with another element/text. Problem in the Source Code',\n",
       "  'votes': '0',\n",
       "  'tags': 'javascript php html jquery wordpress'},\n",
       " {'question': 'How to set default audio out (speaker) in chromium on windows',\n",
       "  'votes': '0',\n",
       "  'tags': 'javascript audio chromium'},\n",
       " {'question': 'How to create a new Buffer from a vector of char using node-addon-api?',\n",
       "  'votes': '0',\n",
       "  'tags': 'javascript c++ node.js node-gyp node-addon-api'},\n",
       " {'question': 'lowdb updates only one infos in JSON file',\n",
       "  'votes': '2',\n",
       "  'tags': 'javascript node.js express lowdb'},\n",
       " {'question': 'Webview not firing onPageFinished for iframe Changes',\n",
       "  'votes': '0',\n",
       "  'tags': 'javascript android webview'},\n",
       " {'question': 'ACF not passing Field value to JS',\n",
       "  'votes': '0',\n",
       "  'tags': 'javascript php html advanced-custom-fields'},\n",
       " {'question': 'Calculate the maximum profit [closed]',\n",
       "  'votes': '-5',\n",
       "  'tags': 'javascript python'},\n",
       " {'question': 'How to fetch API with POST method and Authorization Bearer token in javascript?',\n",
       "  'votes': '0',\n",
       "  'tags': 'javascript'},\n",
       " {'question': 'HandleCheckBox react checked and unchecked , get a list into a state',\n",
       "  'votes': '1\\nvote',\n",
       "  'tags': 'javascript html reactjs jsx'},\n",
       " {'question': 'The return value is undefined.Could tell what should I do to fix it?',\n",
       "  'votes': '-1',\n",
       "  'tags': 'javascript mongodb typescript asynchronous mean-stack'},\n",
       " {'question': 'Dynamically generated web app manifest not getting detected after deploying',\n",
       "  'votes': '0',\n",
       "  'tags': 'javascript html reactjs progressive-web-apps manifest.json'},\n",
       " {'question': 'React useState performing very badly',\n",
       "  'votes': '2',\n",
       "  'tags': 'javascript reactjs use-state'},\n",
       " {'question': 'How to connect to active message queue in Javascript',\n",
       "  'votes': '0',\n",
       "  'tags': 'javascript node.js reactjs queue message-queue'}]"
      ]
     },
     "metadata": {},
     "execution_count": 32
    }
   ],
   "source": [
    "extract_data_from_url(url)"
   ]
  },
  {
   "cell_type": "code",
   "execution_count": 35,
   "metadata": {},
   "outputs": [],
   "source": [
    "def scrape_tag(tag=\"python\", query_filter='Votes', pagesize=50, max_pages=50):\n",
    "    base_url = \"https://stackoverflow.com/questions/tagged/\"\n",
    "    datas = []\n",
    "    for p in range(max_pages):\n",
    "        url = f\"{base_url}{tag}?tab={query_filter}&page={p+1}&pagesize={pagesize}\"\n",
    "        datas += extract_data_from_url(url)\n",
    "    return datas\n"
   ]
  },
  {
   "cell_type": "code",
   "execution_count": 36,
   "metadata": {},
   "outputs": [],
   "source": [
    "datas = scrape_tag()"
   ]
  },
  {
   "cell_type": "code",
   "execution_count": 39,
   "metadata": {},
   "outputs": [
    {
     "output_type": "execute_result",
     "data": {
      "text/plain": [
       "                                               question  votes  \\\n",
       "0                     What does the “yield” keyword do?  10694   \n",
       "1              What does if __name__ == “__main__”: do?   6454   \n",
       "2      Does Python have a ternary conditional operator?   6348   \n",
       "3                       What are metaclasses in Python?   5940   \n",
       "4     How do I check whether a file exists without e...   5870   \n",
       "...                                                 ...    ...   \n",
       "2495  How to expand a list to function arguments in ...    155   \n",
       "2496                        How to JSON serialize sets?    155   \n",
       "2497  Stop pip from failing on single package when i...    155   \n",
       "2498                   Excluding directories in os.walk    155   \n",
       "2499  TypeError: module.__init__() takes at most 2 a...    155   \n",
       "\n",
       "                                                   tags  \n",
       "0             python iterator generator yield coroutine  \n",
       "1           python namespaces main python-module idioms  \n",
       "2     python operators ternary-operator conditional-...  \n",
       "3                 python oop metaclass python-datamodel  \n",
       "4                               python file file-exists  \n",
       "...                                                 ...  \n",
       "2495                                   python arguments  \n",
       "2496                      python json serialization set  \n",
       "2497                                         python pip  \n",
       "2498                                             python  \n",
       "2499            python python-3.x inheritance typeerror  \n",
       "\n",
       "[2500 rows x 3 columns]"
      ],
      "text/html": "<div>\n<style scoped>\n    .dataframe tbody tr th:only-of-type {\n        vertical-align: middle;\n    }\n\n    .dataframe tbody tr th {\n        vertical-align: top;\n    }\n\n    .dataframe thead th {\n        text-align: right;\n    }\n</style>\n<table border=\"1\" class=\"dataframe\">\n  <thead>\n    <tr style=\"text-align: right;\">\n      <th></th>\n      <th>question</th>\n      <th>votes</th>\n      <th>tags</th>\n    </tr>\n  </thead>\n  <tbody>\n    <tr>\n      <th>0</th>\n      <td>What does the “yield” keyword do?</td>\n      <td>10694</td>\n      <td>python iterator generator yield coroutine</td>\n    </tr>\n    <tr>\n      <th>1</th>\n      <td>What does if __name__ == “__main__”: do?</td>\n      <td>6454</td>\n      <td>python namespaces main python-module idioms</td>\n    </tr>\n    <tr>\n      <th>2</th>\n      <td>Does Python have a ternary conditional operator?</td>\n      <td>6348</td>\n      <td>python operators ternary-operator conditional-...</td>\n    </tr>\n    <tr>\n      <th>3</th>\n      <td>What are metaclasses in Python?</td>\n      <td>5940</td>\n      <td>python oop metaclass python-datamodel</td>\n    </tr>\n    <tr>\n      <th>4</th>\n      <td>How do I check whether a file exists without e...</td>\n      <td>5870</td>\n      <td>python file file-exists</td>\n    </tr>\n    <tr>\n      <th>...</th>\n      <td>...</td>\n      <td>...</td>\n      <td>...</td>\n    </tr>\n    <tr>\n      <th>2495</th>\n      <td>How to expand a list to function arguments in ...</td>\n      <td>155</td>\n      <td>python arguments</td>\n    </tr>\n    <tr>\n      <th>2496</th>\n      <td>How to JSON serialize sets?</td>\n      <td>155</td>\n      <td>python json serialization set</td>\n    </tr>\n    <tr>\n      <th>2497</th>\n      <td>Stop pip from failing on single package when i...</td>\n      <td>155</td>\n      <td>python pip</td>\n    </tr>\n    <tr>\n      <th>2498</th>\n      <td>Excluding directories in os.walk</td>\n      <td>155</td>\n      <td>python</td>\n    </tr>\n    <tr>\n      <th>2499</th>\n      <td>TypeError: module.__init__() takes at most 2 a...</td>\n      <td>155</td>\n      <td>python python-3.x inheritance typeerror</td>\n    </tr>\n  </tbody>\n</table>\n<p>2500 rows × 3 columns</p>\n</div>"
     },
     "metadata": {},
     "execution_count": 39
    }
   ],
   "source": [
    "\n",
    "import pandas as pd \n",
    "df = pd.DataFrame(datas)\n",
    "df"
   ]
  },
  {
   "cell_type": "code",
   "execution_count": 40,
   "metadata": {},
   "outputs": [
    {
     "output_type": "execute_result",
     "data": {
      "text/plain": [
       "(2500, 3)"
      ]
     },
     "metadata": {},
     "execution_count": 40
    }
   ],
   "source": [
    "df.shape"
   ]
  },
  {
   "cell_type": "code",
   "execution_count": 41,
   "metadata": {},
   "outputs": [],
   "source": [
    "df.to_csv('python-questions.csv', index=False)"
   ]
  },
  {
   "cell_type": "code",
   "execution_count": null,
   "metadata": {},
   "outputs": [],
   "source": []
  }
 ]
}