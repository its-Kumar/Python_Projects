{
 "metadata": {
  "language_info": {
   "codemirror_mode": {
    "name": "ipython",
    "version": 3
   },
   "file_extension": ".py",
   "mimetype": "text/x-python",
   "name": "python",
   "nbconvert_exporter": "python",
   "pygments_lexer": "ipython3",
   "version": "3.8.3-final"
  },
  "orig_nbformat": 2,
  "kernelspec": {
   "name": "python3",
   "display_name": "Python 3",
   "language": "python"
  }
 },
 "nbformat": 4,
 "nbformat_minor": 2,
 "cells": [
  {
   "cell_type": "code",
   "execution_count": 1,
   "metadata": {},
   "outputs": [],
   "source": [
    "import requests\n",
    "import time\n",
    "from requests_html import HTML\n",
    "from selenium import webdriver\n",
    "from selenium.webdriver.firefox.options import Options"
   ]
  },
  {
   "cell_type": "code",
   "execution_count": 2,
   "metadata": {},
   "outputs": [],
   "source": [
    "options = Options()\n",
    "options.add_argument('--headless')\n",
    "\n",
    "driver = webdriver.Firefox(options=options, executable_path=\"./geckodriver\")"
   ]
  },
  {
   "cell_type": "code",
   "execution_count": 3,
   "metadata": {},
   "outputs": [],
   "source": [
    "categories = [\n",
    "    \"https://www.amazon.in/gp/bestsellers/electronics/ref=zg_bs_nav_0\",\n",
    "    \"https://www.amazon.in/gp/bestsellers/computers/ref=zg_bs_nav_0\",\n",
    "    \"https://www.amazon.in/gp/bestsellers/apparel/ref=zg_bs_nav_0\",\n",
    "]"
   ]
  },
  {
   "cell_type": "code",
   "execution_count": 4,
   "metadata": {},
   "outputs": [
    {
     "output_type": "execute_result",
     "data": {
      "text/plain": [
       "['https://www.amazon.in/gp/bestsellers/electronics/ref=zg_bs_nav_0',\n",
       " 'https://www.amazon.in/gp/bestsellers/computers/ref=zg_bs_nav_0',\n",
       " 'https://www.amazon.in/gp/bestsellers/apparel/ref=zg_bs_nav_0']"
      ]
     },
     "metadata": {},
     "execution_count": 4
    }
   ],
   "source": [
    "categories"
   ]
  },
  {
   "cell_type": "code",
   "execution_count": 5,
   "metadata": {},
   "outputs": [],
   "source": [
    "first_url = categories[0]"
   ]
  },
  {
   "cell_type": "code",
   "execution_count": 6,
   "metadata": {},
   "outputs": [],
   "source": [
    "driver.get(first_url)"
   ]
  },
  {
   "cell_type": "code",
   "execution_count": 7,
   "metadata": {
    "tags": [
     "outputPrepend"
    ]
   },
   "outputs": [
    {
     "output_type": "stream",
     "name": "stdout",
     "text": [
      "eys(o).length&&(i(\"log\",{markers:o,schemaId:e.schemaId||\"<ns>.Timer.1\"},e.logOptions),o={}),clearTimeout(t),t=0}this.mark=function(e,r){o[e]=(void 0===r?c.time():r)-s,t=t||setTimeout(a,u)},c.once(\"$beforeunload\",a),c.once(\"$beforePageTransition\",a)}r&&c.register(e,{instance:function(e){return new n(e||{})}})});\ncsa.plugin(function(t){var e=\"takeRecords\",i=\"disconnect\",n=\"function\",a=t(\"Metrics\",{producerId:\"csa\"}),o=t(\"PageTiming\"),c=t.global,r=c.PerformanceObserver,u=0,f=!1,m=0,s=c.performance,l=c.document,d=null;if(r&&s&&s.timing&&l){r=new r(function(t){d&&clearTimeout(d);t.getEntries().forEach(function(t){t.hadRecentInput||(u+=t.value,m<t.startTime&&(m=t.startTime))}),d=setTimeout(g,5e3)}),function(){try{r.observe({type:\"layout-shift\",buffered:!0}),d=setTimeout(g,5e3)}catch(t){}}();var v=t.exec(g);l.addEventListener(\"visibilitychange\",function(){\"hidden\"===l.visibilityState&&v()}),t.once(\"$unload\",v)}function g(){f||(f=!0,clearTimeout(d),typeof r[e]===n&&r[e](),typeof r[i]===n&&r[i](),a(\"recordMetric\",\"documentCumulativeLayoutShift\",u),o(\"mark\",\"cumulativeLayoutShiftLastTimestamp\",Math.floor(m+s.timing.navigationStart)))}});\n\n\n\ncsa.plugin(function(e){var n=e.global,r=n.PerformanceObserver,t=e(\"Metrics\",{producerId:\"csa\"}),o=0,c=0,i=-1,a=n.Math,l=a.max,f=a.ceil;function u(){t(\"recordMetric\",\"totalBlockingTime\",f(c||0)),t(\"recordMetric\",\"totalBlockingTimeInclLCP\",f(o||0)),t(\"recordMetric\",\"maxBlockingTime\",f(i||0)),c=o=0,i=-1}r&&(new r(e.exec(function(e){e.getEntries().forEach(function(e){var n=e.duration;o+=n,c+=n,i=l(n,i)})})).observe({type:\"longtask\",buffered:!0}),new r(e.exec(function(e){0<e.getEntries().length&&(c=0,i=-1)})).observe({type:\"largest-contentful-paint\",buffered:!0}),e.on(\"$unload\",u),e.on(\"$beforePageTransition\",u))});\n\ncsa.plugin(function(i){var e=\"CacheDetection\",n=\"csa-cache\",s=\"onsuccess\",u=\"target\",d=\"result\",p=\"exp\",f=i.exec,t=i.config,g=t[e+\".RequestID\"],l=t[e+\".Callback\"],v=1,c=i.global,r=c.document||{},a=c.indexedDB,h=c.IDBKeyRange,I=i(\"Events\"),x=i(\"Events\",{producerId:\"csa\"});if(a&&h)try{var o=a.open(n);o.onupgradeneeded=f(function(e){e[u][d].createObjectStore(n).createIndex(p,p)}),o[s]=f(function(e){var o=e[u][d].transaction(n,\"readwrite\").objectStore(n);o.get(g)[s]=f(function(e){var n=D(\"session-id\"),t=function(e){var n=D(\"cdn-rid\");if(n)return{r:n,s:\"cdn\"};if(e)return{r:i.UUID().toUpperCase().replace(/-/g,\"\").slice(0,20),s:\"device\"}}(e[u][d])||{},c=t.r,r=t.s,a=!!c;!function(e){var n=Date.now(),t=h.upperBound(n);e.index(p).openCursor(t)[s]=f(function(e){var n=e[u][d];n&&(n.delete(),n.continue())}),e.put({exp:n+60*v*60*1e3},g)}(o),function(e,n,t){if(n){I(\"setEntity\",{page:{pageSource:\"cache\",requestId:e,cacheRequestId:g},session:{id:t}}),x(\"log\",{schemaId:\"<ns>.CacheImpression.1\"},{ent:\"all\"})}}(c,a,n),a&&l&&l(c,n,r)})})}catch(e){}function D(e){try{var n=r.cookie.match(RegExp(\"(^| )\"+e+\"=([^;]+)\"));return n&&n[2].trim()}catch(e){}}});\ncsa.plugin(function(c){var i,t=\"Content\",e=\"MutationObserver\",n=\"requestAnimationFrame\",r=\"addedNodes\",u=\"querySelectorAll\",a=\"matches\",o=\"getAttributeNames\",s=\"getAttribute\",f=\"dataset\",l=\"producerId\",d={ent:{element:1,page:[\"pageType\",\"subPageType\",\"requestId\"]}},m=5,h=10,g=\"csaC\",p=g+\"Id\",v={},y=c.config,E=y[t+\".Selectors\"]||[],b=y[t+\".WhitelistedAttributes\"]||{href:1,class:1},I=y[t+\".EnableContentEntities\"],w=c.global,A=w.document||{},C=A.documentElement,k=w.HTMLElement,L={},N=[],O=function(t,e,n,i){var r=this,o=c(\"Events\",{producerId:t});r.id=e.id,r.l=o,r.e=e,r.el=n,r.rt=i,r.dlo=d,r.log=function(t,e){o(\"log\",t,e||d)},e.id&&o(\"setEntity\",{element:e})},U=O.prototype;function q(t){var e=(t=t||{}).element,n=t.target;return e?function(t,e){var n;n=t instanceof k?_(t)||S(e[l],t,F,c.time()):L[t.id]||$(e[l],0,t,c.time());return n}(e,t):n?function(t){var e,n=function(t){var e=null,n=0;for(;t&&n<h;){if(n++,T(t,p)){e=t;break}t=t.parentElement}return e}(t);e=n?_(n):new O(\"csa\",{id:null},null,c.time());return e}(n):c.error(\"No element or target argument provided.\")}function T(t,e){if(t&&t.dataset)return t.dataset[e]}function j(t,e,n){N.push({n:n,e:t,t:e}),D()}function x(){for(var t=c.time(),e=0;0<N.length;){var n=N.shift();if(v[n.n](n.e,n.t),++e%10==0&&c.time()-t>m)break}i=0,N.length&&D()}function D(){i=i||w[n](x)}function M(t,e,n){return{n:t,e:e,t:n}}function S(t,e,n,i){var r=c.UUID(),o={id:r};return e[f][p]=r,n(o,e),$(t,e,o,i)}function $(t,e,n,i){I&&(n.schemaId=\"<ns>.ContentEntity.2\"),n.id=n.id||c.UUID();var r=new O(t,n,e,i);return I&&r.log({schemaId:\"<ns>.ContentRender.1\",timestamp:i}),c.emit(\"$content.register\",r),L[n.id]=r}function _(t){return L[(t[f]||{})[p]]}function F(t,e){o in e&&(function(n,i){Object.keys(n[f]).forEach(function(t){if(!t.indexOf(g)&&g.length<t.length){var e=function(t){return(t[0]||\"\").toLowerCase()+t.slice(1)}(t.slice(g.length));i[e]=n[f][t]}})}(e,t),function(e,n){(e[o]()||[]).forEach(function(t){t in b&&(n[t]=e[s](t))})}(e,t))}C&&w[n]&&A[u]&&w[e]&&(E.push({selector:\"*[data-csa-c-type]\",entity:F}),E.push({selector:\".celwidget\",entity:function(t,e){F(t,e),t.slotId=t.slotId||e[s](\"cel_widget_id\")||e.id,t.type=t.type||\"widget\"}}),v[1]=function(t,e){t.forEach(function(t){t[r]&&t[r].constructor&&\"NodeList\"===t[r].constructor.name&&Array.prototype.forEach.call(t[r],function(t){N.unshift(M(2,t,e))})})},v[2]=function(o,c){u in o&&a in o&&E.forEach(function(t){var e=t.selector,n=o[a](e),i=o[u](e);n&&N.unshift(M(3,{e:o,s:t},c));for(var r=0;r<i.length;r++)N.unshift(M(3,{e:i[r],s:t},c))})},v[3]=function(t,e){var n=t.e;_(n)||S(\"csa\",n,t.s.entity,e)},v[4]=function(){c.register(t,{instance:q})},new w[e](function(t){j(t,c.time(),1)}).observe(C,{childList:!0,subtree:!0}),j(C,c.time(),2),j(null,c.time(),4),c.on(\"$content.export\",function(e){Object.keys(e).forEach(function(t){U[t]=e[t]})}))});\ncsa.plugin(function(n){var i,t=\"IntersectionObserver\",r=\"getAttribute\",o=\"dataset\",s=\"intersectionRatio\",m=\"csaCId\",a=n.config[\"Content.ImpressionMinimumTime\"]||1e3,c=n.global,e=((c.performance||{}).timing||{}).navigationStart||n.time(),l={};function u(t){t&&(t.v=1,function(t){t.vt=n.time(),t.el.log({schemaId:\"<ns>.ContentView.2\",timeToViewed:t.vt-t.el.rt,pageFirstPaintToElementViewed:t.vt-e})}(t))}function f(t){t&&!t.it&&(t.i=n.time()-t.is>a,function(t){t.it=n.time(),t.el.log({schemaId:\"<ns>.ContentImpressed.2\",timeToImpressed:t.it-t.el.rt,pageFirstPaintToElementImpressed:t.it-e})}(t))}c[t]&&(i=new c[t](function(t){t.forEach(function(t){var e=function(t){if(t&&t[r])return l[t[o][m]]}(t.target);if(e){var i=t.intersectionRect;t.isIntersecting&&0<i.width&&0<i.height&&(e.v||u(e),.5<=t[s]&&!e.is&&(e.is=n.time(),e.timer=c.setTimeout(f.bind(this,e),a))),t[s]<.5&&!e.it&&e.timer&&(c.clearTimeout(e.timer),e.is=0,e.timer=0)}})},{threshold:[0,.5]}),n.on(\"$content.register\",function(t){var e=t.el;e&&(l[t.id]={el:t,v:0,i:0,is:0,vt:0,it:0},i.observe(e))}))});\ncsa.plugin(function(e){e.emit(\"$content.export\",{mark:function(t,n){var o=this;o.t||(o.t=e(\"Timers\",{logger:o.l,schemaId:\"<ns>.ContentLatency.1\",logOptions:o.dlo})),o.t(\"mark\",t,n)}})});\n\n\n\n\n\n</script><script type=\"text/javascript\">\n(function(m,a){function c(k){function f(b){b&&\"string\"===typeof b&&(b=(b=b.match(/^(?:https?:)?\\/\\/(.*?)(\\/|$)/i))&&1<b.length?b[1]:null,b&&b&&(\"number\"===typeof e[b]?e[b]++:e[b]=1))}function d(b){var e=10,d=+new Date;b&&b.timeRemaining?e=b.timeRemaining():b={timeRemaining:function(){return Math.max(0,e-(+new Date-d))}};for(var c=a.performance.getEntries(),k=e;g<c.length&&k>n;)c[g].name&&f(c[g].name),g++,k=b.timeRemaining();g>=c.length?h(!0):l()}function h(b){if(!b){b=m.scripts;var c;if(b)for(var d=\n0;d<b.length;d++)(c=b[d].getAttribute(\"src\"))&&\"undefined\"!==c&&f(c)}0<Object.keys(e).length&&(p&&ue_csm.ue&&ue_csm.ue.event&&ue_csm.ue.event({domains:e,pageType:a.ue_pty||null,subPageType:a.ue_spty||null,pageTypeId:a.ue_pti||null},\"csm\",\"csm.CrossOriginDomains.2\"),a.ue_ext=e)}function l(){!0===k?d():a.requestIdleCallback?a.requestIdleCallback(d):a.requestAnimationFrame?a.requestAnimationFrame(d):a.setTimeout(d,100)}function c(){if(a.performance&&a.performance.getEntries){var b=a.performance.getEntries();\n!b||0>=b.length?h(!1):l()}else h(!1)}var e=a.ue_ext||{};a.ue_ext||c();return e}function q(){setTimeout(c,r)}var s=a.ue_dserr||!1,p=!0,n=1,r=2E3,g=0;a.ue_err&&s&&(a.ue_err.errorHandlers||(a.ue_err.errorHandlers=[]),a.ue_err.errorHandlers.push({name:\"ext\",handler:function(a){if(!a.logLevel||\"FATAL\"===a.logLevel){var f=c(!0),d=[],h;for(h in f){var f=h,g=f.match(/amazon(\\.com?)?\\.\\w{2,3}$/i);g&&1<g.length||-1!==f.indexOf(\"amazon-adsystem.com\")||-1!==f.indexOf(\"amazonpay.com\")||-1!==f.indexOf(\"cloudfront-labs.amazonaws.com\")||\nd.push(h)}a.ext=d}}}));a.ue&&a.ue.isl?c():a.ue&&ue.attach&&ue.attach(\"load\",q)})(document,window);\n\n</script>\n<script type=\"text/javascript\">\n(function(b){var n=\"undefined\"===typeof window.ue_bfd?1E3:window.ue_bfd;b.P&&b.P.when&&\"function\"===typeof window.setTimeout&&b.P.when(\"mshop-interactions\").execute(function(d){function k(a){if(typeof a===e&&a.dataSource===p&&!(a.navType!==g&&a.navType!==l||typeof a.clickTime!==h||typeof a.events!==e||typeof a.events.pageVisible!==h&&typeof a.events.backAnimation!==h||typeof b.ue!==e||typeof b.ue.markers!==e||typeof b.uex!==m)){a.events.pageVisible=a.events.pageVisible||a.events.backAnimation;for(var c in b.ue.markers)b.ue.markers.hasOwnProperty(c)&&\n!q.hasOwnProperty(c)&&uet(c,void 0,void 0,a.events.pageVisible+1);uet(\"tc\",void 0,void 0,a.events.pageVisible);uet(\"mts\",void 0,void 0,a.clickTime);uet(r,void 0,void 0,a.events.pageVisible+s);(c=document.ue_backdetect)&&c.ue_back&&(b.ue.bfini=+c.ue_back.value+1);b.ue.isBFonMshop=!0;b.ue.t0=a.events.pageVisible;b.ue.viz=[t];b.ue.tag(\"cacheSourceMemory\");b.ue.tag(\"mshop-interaction-\"+a.navType.toLowerCase());c=ue_csm.csa&&ue_csm.csa(\"SPA\");var d=ue_csm.csa&&ue_csm.csa(\"PageTiming\");if(c&&d){var f={};\na.navType===g&&(f.transitionType=u);a.navType===l&&(f.transitionType=v);f.mshopInteractionType=a.navType.toLowerCase();c(\"newPage\",f,{keepPageAttributes:!0});d(\"mark\",\"transitionStart\",a.clickTime);d(\"mark\",\"nativeTransitionStart\",a.clickTime)}b.uex(\"ld\",void 0,void 0,b.ue.t.ld);delete b.ue.isBFonMshop}}function w(a){a&&a.navType===g?setTimeout(function(){k(a)},n):k(a)}var p=\"MEMORY\",g=\"BACK\",l=\"FORWARD\",e=\"object\",h=\"number\",m=\"function\",r=\"ty\",s=2,t=\"visible\",q={rc:\"rc\",hob:\"hob\",hoe:\"hoe\",ntd:\"ntd\"},\nu=\"back-memory-cache\",v=\"tab-switch\";typeof d===e&&typeof d.addListener===m&&d.addListener(w)})})(ue_csm);\n\n</script>\n \n \n\n\n\n\n<div id=\"a-popover-root\" style=\"z-index:-1;position:absolute;\"></div><script type=\"text/html\" id=\"s-suggestion\"><div id=\"<#= suggestionId #>\"class=\"s-suggestion\"data-alias=\"<#= alias #>\"data-keyword=\"<#= keyword #>\"data-store=\"<#= store #>\"data-isSc=\"<#= isSpellCorrected #>\"data-isFb=\"<#= isFallback #>\"data-type=\"<#= type #>\"data-nid=\"<#= browseNodeId #>\"data-reftag=\"<#= refTag #>\"data-crid=\"<#= completionResponseId #>\"><# if (!skipDisplay) { for (var i = 0; i < highlightFragments.length; i++) {if (!highlightFragments[i].isHit) { #><span class=\"s-heavy\"><# } #><#= highlightFragments[i].text #><# if (!highlightFragments[i].isHit) { #></span><# } #><# } #><# } #><# if (typeof storeHtml === \"string\") { #> <#= storeHtml #><# } #></div></script><script type=\"text/html\" id=\"suggestions-template\"><div id=\"suggestions-template\"><# if (typeof suggestionTitle !== \"undefined\") { #><div id=\"suggestion-title\"><#= suggestionTitle #></div><# } #><# if (typeof biaTitle !== \"undefined\") { #><a href=\"<#= biaWidgetUrl #>\" style=\"text-decoration: none !important;\"><p class=\"s-bia-suggestion\"><strong><#= biaTitle #></strong></p></a><# } #><div id=\"suggestions\" dir=\"auto\"><# if (typeof suggestions !== \"undefined\") {for(var i=0; i < suggestions.length; i++) {var displayString = suggestions[i].display; #><#= displayString #><# }} #></div></div></script><script type=\"text/html\" id=\"promoted-suggestion\"><div class=\"s-suggestion s-suggestion-link-template\"><a href=\"<#= widgetItems[0].metadata.link_url #>\"><#for (var i = 0; i < highlightFragments.length; i++) {if (highlightFragments[i].isHighlight) { #><span class=\"s-heavy\"><# } #><#= highlightFragments[i].text #><# if (highlightFragments[i].isHighlight) { #></span><# } #><# } #></a></div></script><script type=\"text/html\" id=\"s-recentSearch\"><div id=\"<#= suggestionId #>\" class=\"s-suggestion s-recentSearch s-recentSearchDistinct\" data-alias=\"<#= alias #>\" data-keyword=\"<#= keyword #>\" data-store=\"<#= store #>\" data-isSc=\"false\" data-isFb=\"false\" data-type=\"<#= type #>\"><span class=\"s-heavy\"><#= bprefix #></span><#= prefix #><span class=\"s-heavy\"><#= suffix #></span><# if (typeof storeHtml === \"string\") { #> <#= storeHtml #><# } #><span id=\"delete-<#= suggestionId #>\" class=\"s-suggestion-deleteDistinct\"><i id=\"delete-icon-<#= suggestionId #>\" class=\"a-icon a-icon-remove\"></i></span> </div></script><script type=\"text/html\" id=\"s-separator\"><div id=\"s-separator\"><div class=\"s-separator\"></div></div></script><script type=\"text/html\" id=\"s-option\"><option value=\"<#= value #>\"><#= store #></option></script><script type=\"text/html\" id=\"s-minimal\"><div class=\"s-suggestion s-custom\" data-url=\"<#= url #>\"><#= bprefix #><span class=\"s-heavy\"><#= prefix #></span><#= suffix #></div></script><script type=\"text/html\" id=\"s-storeText\"><span class=\"<#= cssClasses #>\"><#= store #></span></script><script type=\"text/html\" id=\"s-nextSearch\"><div id=\"<#= suggestionId #>\" <# if (nextSearchTemplateType === \"T2\") { #>class=\"s-suggestion s-nextSearch s-nextSearch-block s-nextSearch-cell\" <# } else { #>class=\"s-suggestion s-nextSearch\" <# } #>data-alias=\"<#= alias #>\" data-keyword=\"<#= keywords #>\" data-isSc=\"false\" data-isFb=\"false\" data-type=\"<#= type #>\"><#= keywords #></div></script><script type=\"text/html\" id=\"s-qu-suggestion\"><div id=\"<#= suggestionId #>\"class=\"s-suggestion s-qu-suggestion\"data-keyword=\"<#= keyword #>\"data-store=\"<#= store #>\"data-isSc=\"<#= isSpellCorrected #>\"data-type=\"<#= type #>\"data-qu-type=\"<#= qu.type #>\"data-qu-value=\"<#= qu.value #>\"data-crid=\"<#= completionResponseId #>\"><span class=\"s-qu-display-string\"><#= qu.displayString  #></span></div></script><script type=\"text/html\" id=\"asin\"><div class=\"s-asin-suggestion s-suggestion\"><a class=\"s-asin-sug-link\" href=\"<#= widgetItems[0].metadata.link_url #>\"><div class=\"s-asin-sug-left\"><div class=\"s-asin-image-container\" style=\"opacity: 1;\"><img class=\"s-asin-image\" src=\"<#= widgetItems[0].metadata.image_url #>\"></div></div><div class=\"s-asin-sug-right\"><div class=\"s-size-mini s-sug-pp-caption\"><#= widgetItems[0].metadata.asin_header #></div><div class=\"s-asin-title\"><#= widgetItems[0].metadata.asin_title #></div></div></a></div></script><script type=\"text/html\" id=\"storefront\"><hr class=\"s-line-separator\"><div class=\"s-storefront-suggestion s-suggestion\"><a class=\"s-storefront-sug-link\" href=\"<#= widgetItems[0].metadata.link_url #>\"><div class=\"s-storefront-sug-left\"><div class=\"s-storefront-image-container\" style=\"opacity: 1;\"><img class=\"s-storefront-image\" src=\"<#= widgetItems[0].metadata.image_url #>\"></div></div><div class=\"s-storefront-sug-right\"><div class=\"s-size-mini s-sug-sf-caption\"><#= widgetItems[0].metadata.storefront_header #></div><div class=\"s-storefront-title\"><#= widgetItems[0].metadata.storefront_caption #></div></div></a></div></script><script type=\"text/html\" id=\"keywords-link\"><div class=\"s-suggestion s-suggestion-link-template\"><a href=\"<#= widgetItems[0].metadata.link_url #>\"><#for (var i = 0; i < highlightFragments.length; i++) {if (highlightFragments[i].isHighlight) { #><span class=\"s-heavy\"><# } #><#= highlightFragments[i].text #><# if (highlightFragments[i].isHighlight) { #></span><# } #><# } #></a></div></script><script type=\"text/html\" id=\"keywords-badge-link\"><div class=\"s-suggestion s-suggestion-link-template\"><a href=\"<#= widgetItems[0].metadata.link_url #>\"><#for (var i = 0; i < highlightFragments.length; i++) {if (highlightFragments[i].isHighlight) { #><span class=\"s-heavy\"><# } #><#= highlightFragments[i].text #><# if (highlightFragments[i].isHighlight) { #></span><# } #><# } #><# if (widgetItems[0].metadata.badge_type === \"PRIME\") { #><i class=\"a-icon a-icon-prime a-icon-medium\" role=\"img\" aria-label=\"Amazon Prime\"></i><# } #></a></div></script><script type=\"text/html\" id=\"pre-search-suggestion\"><div id=\"pre-search-suggestion\"><div class=\"s-suggestion pss-dropdown-title\"><#=metadata[language]#></div><# for(var i=0; i < widgetItems.length; i++) {var keywords = widgetItems[i].metadata.keywords; #><div class=\"s-suggestion s-heavy\" data-alias=\"<#= alias #>\" data-keyword=\"<#= keywords #>\" data-type=\"a9\" data-crid=\"<#= completionResponseId #>\" data-reftag=\"<#= refTag #>\"><#= keywords #></div><#} #></div></script><script type=\"text/html\" id=\"discover-top-grey\"><div id=\"s-suggestion discover-suggestion\"><div class=\"discover-sug-container-top\"><# for(var i=0; i < widgetItems.length; i++) {var metadata = widgetItems[i].metadata; #><div class=\"discover-sug-column\"><div class=\"discover-sug-card\"><a class=\"discover-sug-link\" href=\"<#= metadata.link_url #>\"><div class=\"discover-sug-image-container\"><img class=\"discover-sug-image\" src=\"<#= metadata.image_url #>\"><div class=\"discover-sug-image-background discover-sug-image-grey-shield\"></div></div><div class=\"discover-sug-text\"><#= metadata.text #></div></a></div></div><#} #></div><hr class=\"discover-hr\"></div></script><script type=\"text/html\" id=\"discover-bot-grey\"><div id=\"s-suggestion discover-suggestion\"><hr class=\"discover-hr\"><div class=\"discover-sug-container-bot\"><# for(var i=0; i < widgetItems.length; i++) {var metadata = widgetItems[i].metadata; #><div class=\"discover-sug-column\"><div class=\"discover-sug-card\"><a class=\"discover-sug-link\" href=\"<#= metadata.link_url #>\"><div class=\"discover-sug-image-container\"><img class=\"discover-sug-image\" src=\"<#= metadata.image_url #>\"><div class=\"discover-sug-image-background discover-sug-image-grey-shield\"></div></div><div class=\"discover-sug-text\"><#= metadata.text #></div></a></div></div><#} #></div></div></script><script type=\"text/html\" id=\"discover-top-clear\"><div id=\"s-suggestion discover-suggestion\"><div class=\"discover-sug-container-top\"><# for(var i=0; i < widgetItems.length; i++) {var metadata = widgetItems[i].metadata; #><div class=\"discover-sug-column\"><div class=\"discover-sug-card\"><a class=\"discover-sug-link\" href=\"<#= metadata.link_url #>\"><div class=\"discover-sug-image-container\"><img class=\"discover-sug-image\" src=\"<#= metadata.image_url #>\"><div class=\"discover-sug-image-background\"></div></div><div class=\"discover-sug-text\"><#= metadata.text #></div></a></div></div><#} #></div><hr class=\"discover-hr\"></div></script><script type=\"text/html\" id=\"discover-bot-clear\"><div id=\"s-suggestion discover-suggestion\"><hr class=\"discover-hr\"><div class=\"discover-sug-container-bot\"><# for(var i=0; i < widgetItems.length; i++) {var metadata = widgetItems[i].metadata; #><div class=\"discover-sug-column\"><div class=\"discover-sug-card\"><a class=\"discover-sug-link\" href=\"<#= metadata.link_url #>\"><div class=\"discover-sug-image-container\"><img class=\"discover-sug-image\" src=\"<#= metadata.image_url #>\"><div class=\"discover-sug-image-background\"></div></div><div class=\"discover-sug-text\"><#= metadata.text #></div></a></div></div><#} #></div></div></script><script type=\"text/html\" id=\"stores\"><# var metadata = widgetItems[0].metadata; #><div class=\"s-suggestion s-store-suggestion\" data-keyword=\"<#= metadata.text #>\"><a class=\"s-store-sug-link\" aria-label=\"<#= metadata.text #>\" href=\"<#= metadata.link_url #>\"><div class=\"s-store-sug-logo-container\" style=\"opacity: 1;\"><img class=\"s-store-sug-logo\" alt=\"<#= metadata.text #>\" src=\"<#= metadata.image_url #>\"></div><div class=\"s-store-sug-text-container\"><div class=\"s-store-sug-text\"><# for (var i = 0; i < highlightFragments.length; i++) { #><# if (highlightFragments[i].isHighlight) { #><span class=\"s-heavy\"><# } #><#= highlightFragments[i].text #><# if (highlightFragments[i].isHighlight) { #></span><# } #><# } #></div></div></a></div></script>\n"
     ]
    }
   ],
   "source": [
    "body = driver.find_element_by_css_selector(\"body\")\n",
    "html_str = body.get_attribute(\"innerHTML\")\n",
    "print(html_str)"
   ]
  },
  {
   "cell_type": "code",
   "execution_count": 8,
   "metadata": {},
   "outputs": [],
   "source": [
    "html_obj = HTML(html=html_str)"
   ]
  },
  {
   "cell_type": "code",
   "execution_count": 9,
   "metadata": {},
   "outputs": [
    {
     "output_type": "execute_result",
     "data": {
      "text/plain": [
       "['/OnePlus-Buds-Z-White/dp/B07XY541GH/ref=zg_bs_electronics_10/259-0783252-4776544?_encoding=UTF8&psc=1&refRID=ZKDVTAN6T53MJ4QJRMX2',\n",
       " '/hz5/yourmembershipsandsubscriptions?ref_=nav_AccountFlyout_digital_subscriptions',\n",
       " '/showroom?ref_=nav_ListFlyout_srm_your_desk_wl_in',\n",
       " '/mobile-phones/b/?ie=UTF8&node=1389401031&ref_=nav_cs_mobiles',\n",
       " '/Infinity-Glide-120-Earphones-Sweatproof/dp/B082MDMW3X/ref=zg_bs_electronics_44/259-0783252-4776544?_encoding=UTF8&psc=1&refRID=ZKDVTAN6T53MJ4QJRMX2&smid=A14CZOWI0VEHLG']"
      ]
     },
     "metadata": {},
     "execution_count": 9
    }
   ],
   "source": [
    "new_links = [x for x in html_obj.links if x.startswith(\"/\")]\n",
    "new_links = [x for x in new_links if \"/product-reviews\" not in x]\n",
    "new_links[:5]"
   ]
  },
  {
   "cell_type": "code",
   "execution_count": 10,
   "metadata": {},
   "outputs": [
    {
     "output_type": "execute_result",
     "data": {
      "text/plain": [
       "117"
      ]
     },
     "metadata": {},
     "execution_count": 10
    }
   ],
   "source": [
    "len(new_links)"
   ]
  },
  {
   "cell_type": "code",
   "execution_count": 11,
   "metadata": {},
   "outputs": [
    {
     "output_type": "execute_result",
     "data": {
      "text/plain": [
       "['https://amazon.in/OnePlus-Buds-Z-White/dp/B07XY541GH/ref=zg_bs_electronics_10/259-0783252-4776544?_encoding=UTF8&psc=1&refRID=ZKDVTAN6T53MJ4QJRMX2',\n",
       " 'https://amazon.in/hz5/yourmembershipsandsubscriptions?ref_=nav_AccountFlyout_digital_subscriptions',\n",
       " 'https://amazon.in/showroom?ref_=nav_ListFlyout_srm_your_desk_wl_in',\n",
       " 'https://amazon.in/mobile-phones/b/?ie=UTF8&node=1389401031&ref_=nav_cs_mobiles',\n",
       " 'https://amazon.in/Infinity-Glide-120-Earphones-Sweatproof/dp/B082MDMW3X/ref=zg_bs_electronics_44/259-0783252-4776544?_encoding=UTF8&psc=1&refRID=ZKDVTAN6T53MJ4QJRMX2&smid=A14CZOWI0VEHLG']"
      ]
     },
     "metadata": {},
     "execution_count": 11
    }
   ],
   "source": [
    "page_links = [f\"https://amazon.in{x}\" for x in new_links]\n",
    "page_links[:5]"
   ]
  },
  {
   "cell_type": "code",
   "execution_count": 12,
   "metadata": {},
   "outputs": [],
   "source": [
    "def scrape_product_page(url, title_lookup=\"#productTitle\",price_lookup=\"#priceblock_ourprice\"):\n",
    "    driver.get(url)\n",
    "    time.sleep(1.2)\n",
    "    body_el = driver.find_element_by_css_selector(\"body\")\n",
    "    html_str = body_el.get_attribute(\"innerHTML\")\n",
    "    html_obj = HTML(html=html_str)\n",
    "    product_title = html_obj.find(title_lookup, first=True).text\n",
    "    product_price = html_obj.find(price_lookup, first=True).text\n",
    "    return product_title, product_price"
   ]
  },
  {
   "cell_type": "code",
   "execution_count": 13,
   "metadata": {},
   "outputs": [
    {
     "output_type": "execute_result",
     "data": {
      "text/plain": [
       "'https://amazon.in/OnePlus-Buds-Z-White/dp/B07XY541GH/ref=zg_bs_electronics_10/259-0783252-4776544?_encoding=UTF8&psc=1&refRID=ZKDVTAN6T53MJ4QJRMX2'"
      ]
     },
     "metadata": {},
     "execution_count": 13
    }
   ],
   "source": [
    "first_product_link = page_links[0]\n",
    "first_product_link"
   ]
  },
  {
   "cell_type": "code",
   "execution_count": 14,
   "metadata": {},
   "outputs": [
    {
     "output_type": "execute_result",
     "data": {
      "text/plain": [
       "('OnePlus Buds Z (White)', '₹\\xa02,999.00')"
      ]
     },
     "metadata": {},
     "execution_count": 14
    }
   ],
   "source": [
    "scrape_product_page(first_product_link)"
   ]
  },
  {
   "cell_type": "code",
   "execution_count": 15,
   "metadata": {},
   "outputs": [
    {
     "output_type": "stream",
     "name": "stdout",
     "text": [
      "OnePlus Buds Z (White)-₹ 2,999.00\n",
      "Infinity (JBL) Glide 120 Metal in-Ear Wireless Flex Neckband with Bluetooth 5.0 and IPX5 Sweatproof (Black and Yellow)-₹ 1,399.00\n",
      "boAt Rockerz 255 Sports in-Ear Bluetooth Neckband Earphone with Mic (Active Black)-₹ 1,399.00\n",
      "SanDisk Cruzer Blade 32GB USB Flash Drive-₹ 349.00\n",
      "OnePlus Nord 5G (Gray Onyx, 8GB RAM, 128GB Storage)-₹ 27,999.00\n",
      "pTron Tangent Lite Bluetooth 5.0 Wireless Headphones with Hi-Fi Stereo Sound, 6Hrs Playtime, Lightweight Ergonomic Neckband, Sweat-Resistant Magnetic Earbuds, Voice Assistant & Mic - (Black)-₹ 649.00\n",
      "Nokia 105 Single SIM (Black)-₹ 1,180.00\n",
      "ELV Car Mount Adjustable Car Phone Holder Universal Long Arm, Windshield for Smartphones - Black-₹ 349.00\n",
      "boAt A 350 Type C Cable 1.5m (Black)-₹ 299.00\n",
      "OnePlus Bullets Wireless Z Bass Edition (Bass Blue)-₹ 1,999.00\n",
      "realme Buds 2 with Mic for Android Smartphones (Black)-₹ 599.00\n",
      "Noise Colorfit Pro 2 Full Touch Control Smart Watch Jet Black-₹ 2,999.00\n",
      "boAt Rockerz 255 Sports in-Ear Bluetooth Neckband Earphone with Mic(Ocean Blue)-₹ 1,499.00\n",
      "Samsung Galaxy M01 (Blue, 3GB RAM, 32GB Storage) with No Cost EMI/Additional Exchange Offers-₹ 7,499.00\n",
      "boAt Airdopes 441 TWS Ear-Buds with IWP Technology, Immersive Audio, Up to 30H Total Playback, IPX7 Water Resistance, Super Touch Controls, Secure Sports Fit & Type-C Port(Spirit Lime)-₹ 2,499.00\n",
      "HP X1000 Wired Mouse (Black/Grey)-₹ 319.00\n",
      "boAt Bassheads 100 in Ear Wired Earphones with Mic(Taffy Pink)-₹ 375.00\n",
      "Redmi 8A Dual (Sky White, 2GB RAM, 32GB Storage) – Dual Cameras & 5,000 mAH Battery-₹ 6,999.00\n",
      "boAt Airdopes 441 TWS Ear-Buds with IWP Technology, Immersive Audio, Up to 30H Total Playback, IPX7 Water Resistance, Super Touch Controls, Secure Sports Fit & Type-C Port(Active Black)-₹ 2,099.00\n",
      "Tygot Adjustable Aluminium Alloy Tripod Stand Holder for Mobile Phones & Camera, 360 mm -1050 mm, 1/4 inch Screw + Mobile Holder Bracket-₹ 399.00\n",
      "OnePlus Bullets Wireless Z Bass Edition (Reverb Red)-₹ 1,999.00\n"
     ]
    }
   ],
   "source": [
    "for link in page_links:\n",
    "    title, price = (None, None)\n",
    "    try:\n",
    "        title, price = scrape_product_page(link)\n",
    "    except:\n",
    "        pass\n",
    "    if title is not None and price is not None:\n",
    "        print(title, price, sep=\"-\")"
   ]
  },
  {
   "cell_type": "code",
   "execution_count": null,
   "metadata": {},
   "outputs": [],
   "source": [
    "# 'https://amazon.in/OnePlus-Buds-Z-White/dp/B07XY541GH/ref=zg_bs_electronics_10/259-0783252-4776544?_encoding=UTF8&psc=1&refRID=ZKDVTAN6T53MJ4QJRMX2'\n",
    "\n",
    "# pattern\n",
    "# <base_url>/<slug>/dp/<product-id>\n"
   ]
  },
  {
   "cell_type": "code",
   "execution_count": null,
   "metadata": {},
   "outputs": [],
   "source": []
  }
 ]
}