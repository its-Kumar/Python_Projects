{
 "metadata": {
  "language_info": {
   "codemirror_mode": {
    "name": "ipython",
    "version": 3
   },
   "file_extension": ".py",
   "mimetype": "text/x-python",
   "name": "python",
   "nbconvert_exporter": "python",
   "pygments_lexer": "ipython3",
   "version": "3.8.3-final"
  },
  "orig_nbformat": 2,
  "kernelspec": {
   "name": "python3",
   "display_name": "Python 3",
   "language": "python"
  }
 },
 "nbformat": 4,
 "nbformat_minor": 2,
 "cells": [
  {
   "cell_type": "code",
   "execution_count": 18,
   "metadata": {},
   "outputs": [],
   "source": [
    "import requests\n",
    "from requests_html import HTML"
   ]
  },
  {
   "cell_type": "code",
   "execution_count": 19,
   "metadata": {},
   "outputs": [],
   "source": [
    "url = \"https://www.amazon.in/AVITA-Essential-NE14A2INC433-CR-Integrated-Graphics/dp/B08DDYYZ3G/ref=sr_1_3?dchild=1&keywords=laptop&qid=1607606376&sr=8-3\"\n",
    "title_lookup = \"#productTitle\"\n",
    "price_lookup = \"#priceblock_ourprice\""
   ]
  },
  {
   "cell_type": "code",
   "execution_count": 20,
   "metadata": {},
   "outputs": [],
   "source": [
    "r = requests.get(url)\n",
    "html_str = r.text"
   ]
  },
  {
   "cell_type": "code",
   "execution_count": 21,
   "metadata": {},
   "outputs": [
    {
     "output_type": "stream",
     "name": "stdout",
     "text": [
      "<!DOCTYPE html>\n<!--[if lt IE 7]> <html lang=\"en-us\" class=\"a-no-js a-lt-ie9 a-lt-ie8 a-lt-ie7\"> <![endif]-->\n<!--[if IE 7]>    <html lang=\"en-us\" class=\"a-no-js a-lt-ie9 a-lt-ie8\"> <![endif]-->\n<!--[if IE 8]>    <html lang=\"en-us\" class=\"a-no-js a-lt-ie9\"> <![endif]-->\n<!--[if gt IE 8]><!-->\n<html class=\"a-no-js\" lang=\"en-us\"><!--<![endif]--><head>\n<meta http-equiv=\"content-type\" content=\"text/html; charset=UTF-8\">\n<meta charset=\"utf-8\">\n<meta http-equiv=\"X-UA-Compatible\" content=\"IE=edge,chrome=1\">\n<title dir=\"ltr\">Amazon.in</title>\n<meta name=\"viewport\" content=\"width=device-width\">\n<link rel=\"stylesheet\" href=\"https://images-na.ssl-images-amazon.com/images/G/01/AUIClients/AmazonUI-3c913031596ca78a3768f4e934b1cc02ce238101.secure.min._V1_.css\">\n<script>\n\nif (true === true) {\n    var ue_t0 = (+ new Date()),\n        ue_csm = window,\n        ue = { t0: ue_t0, d: function() { return (+new Date() - ue_t0); } },\n        ue_furl = \"fls-eu.amazon.in\",\n        ue_mid = \"A21TJRUUN4KGV\",\n        ue_sid = (document.cookie.match(/session-id=([0-9-]+)/) || [])[1],\n        ue_sn = \"opfcaptcha.amazon.in\",\n        ue_id = '1YDMVV1TG44J3HR66FN9';\n}\n</script>\n</head>\n<body>\n\n<!--\n        To discuss automated access to Amazon data please contact api-services-support@amazon.com.\n        For information about migrating to our APIs refer to our Marketplace APIs at https://developer.amazonservices.in/ref=rm_c_sv, or our Product Advertising API at https://affiliate-program.amazon.in/gp/advertising/api/detail/main.html/ref=rm_c_ac for advertising use cases.\n-->\n\n<!--\nCorreios.DoNotSend\n-->\n\n<div class=\"a-container a-padding-double-large\" style=\"min-width:350px;padding:44px 0 !important\">\n\n    <div class=\"a-row a-spacing-double-large\" style=\"width: 350px; margin: 0 auto\">\n\n        <div class=\"a-row a-spacing-medium a-text-center\"><i class=\"a-icon a-logo\"></i></div>\n\n        <div class=\"a-box a-alert a-alert-info a-spacing-base\">\n            <div class=\"a-box-inner\">\n                <i class=\"a-icon a-icon-alert\"></i>\n                <h4>Enter the characters you see below</h4>\n                <p class=\"a-last\">Sorry, we just need to make sure you're not a robot. For best results, please make sure your browser is accepting cookies.</p>\n                </div>\n            </div>\n\n            <div class=\"a-section\">\n\n                <div class=\"a-box a-color-offset-background\">\n                    <div class=\"a-box-inner a-padding-extra-large\">\n\n                        <form method=\"get\" action=\"/errors/validateCaptcha\" name=\"\">\n                            <input type=hidden name=\"amzn\" value=\"21yd4+4wMFUu14hwKgu5nA==\" /><input type=hidden name=\"amzn-r\" value=\"&#047;AVITA&#045;Essential&#045;NE14A2INC433&#045;CR&#045;Integrated&#045;Graphics&#047;dp&#047;B08DDYYZ3G&#047;ref&#061;sr_1_3?dchild&#061;1&amp;keywords&#061;laptop&amp;qid&#061;1607606376&amp;sr&#061;8&#045;3\" />\n                            <div class=\"a-row a-spacing-large\">\n                                <div class=\"a-box\">\n                                    <div class=\"a-box-inner\">\n                                        <h4>Type the characters you see in this image:</h4>\n                                        <!-- For automated access to price change or offer listing change events,\n                                             please refer to the MWS Subscription API:\n                                             https://developer.amazonservices.in/gp/mws/api.html/276-5247872-0590350?ie=UTF8&section=subscriptions&group=subscriptions&version=latest\n                                        -->\n                                        <div class=\"a-row a-text-center\">\n                                            <img src=\"https://images-na.ssl-images-amazon.com/captcha/xzqdsmvh/Captcha_opxirzmtcx.jpg\">\n                                        </div>\n                                        <div class=\"a-row a-spacing-base\">\n                                            <div class=\"a-row\">\n                                                <div class=\"a-column a-span6\">\n                                                </div>\n                                                <div class=\"a-column a-span6 a-span-last a-text-right\">\n                                                    <a onclick=\"window.location.reload()\">Try different image</a>\n                                                </div>\n                                            </div>\n                                            <input autocomplete=\"off\" spellcheck=\"false\" placeholder=\"Type characters\" id=\"captchacharacters\" name=\"field-keywords\" class=\"a-span12\" autocapitalize=\"off\" autocorrect=\"off\" type=\"text\">\n                                        </div>\n                                    </div>\n                                </div>\n                            </div>\n\n                            <div class=\"a-section a-spacing-extra-large\">\n\n                                <div class=\"a-row\">\n                                    <span class=\"a-button a-button-primary a-span12\">\n                                        <span class=\"a-button-inner\">\n                                            <button type=\"submit\" class=\"a-button-text\">Continue shopping</button>\n                                        </span>\n                                    </span>\n                                </div>\n\n                            </div>\n                        </form>\n\n                    </div>\n                </div>\n\n            </div>\n\n        </div>\n\n        <div class=\"a-divider a-divider-section\"><div class=\"a-divider-inner\"></div></div>\n\n        <div class=\"a-text-center a-spacing-small a-size-mini\">\n            <a href=\"https://www.amazon.in/gp/help/customer/display.html/ref=footer_cou?ie=UTF8&nodeId=200545940\">Conditions of Use &amp; Sale</a>\n            <span class=\"a-letter-space\"></span>\n            <span class=\"a-letter-space\"></span>\n            <span class=\"a-letter-space\"></span>\n            <span class=\"a-letter-space\"></span>\n            <a href=\"https://www.amazon.in/gp/help/customer/display.html/ref=footer_privacy?ie=UTF8&nodeId=200534380\">Privacy Notice</a>\n        </div>\n\n        <div class=\"a-text-center a-size-mini a-color-secondary\">\n          &copy; 1996-2015, Amazon.com, Inc. or its affiliates\n          <script>\n           if (true === true) {\n             document.write('<img src=\"https://fls-eu.amaz'+'on.in/'+'1/oc-csi/1/OP/requestId=1YDMVV1TG44J3HR66FN9&js=1\" />');\n           };\n          </script>\n          <noscript>\n            <img src=\"https://fls-eu.amazon.in/1/oc-csi/1/OP/requestId=1YDMVV1TG44J3HR66FN9&js=0\" />\n          </noscript>\n        </div>\n    </div>\n    <script>\n    if (true === true) {\n        var head = document.getElementsByTagName('head')[0],\n            prefix = \"https://images-eu.ssl-images-amazon.com/images/G/01/csminstrumentation/\",\n            elem = document.createElement(\"script\");\n        elem.src = prefix + \"csm-captcha-instrumentation.min.js\";\n        head.appendChild(elem);\n\n        elem = document.createElement(\"script\");\n        elem.src = prefix + \"rd-script-6d68177fa6061598e9509dc4b5bdd08d.js\";\n        head.appendChild(elem);\n    }\n    </script>\n</body></html>\n\n"
     ]
    }
   ],
   "source": [
    "print(html_str)"
   ]
  },
  {
   "cell_type": "code",
   "execution_count": 22,
   "metadata": {},
   "outputs": [],
   "source": [
    "html_obj = HTML(html=html_str)"
   ]
  },
  {
   "cell_type": "code",
   "execution_count": 23,
   "metadata": {},
   "outputs": [],
   "source": [
    "html_obj.find(title_lookup, first=True)"
   ]
  },
  {
   "source": [
    "requests is not working \n"
   ],
   "cell_type": "markdown",
   "metadata": {}
  },
  {
   "source": [
    "Lets try selenium"
   ],
   "cell_type": "markdown",
   "metadata": {}
  },
  {
   "cell_type": "code",
   "execution_count": 24,
   "metadata": {},
   "outputs": [],
   "source": [
    "from selenium import webdriver\n",
    "from selenium.webdriver.firefox.options import Options\n"
   ]
  },
  {
   "cell_type": "code",
   "execution_count": 25,
   "metadata": {},
   "outputs": [],
   "source": [
    "options = Options()\n",
    "options.add_argument('--headless')\n",
    "\n",
    "driver = webdriver.Firefox(options=options, executable_path=\"./geckodriver\")"
   ]
  },
  {
   "cell_type": "code",
   "execution_count": 26,
   "metadata": {
    "tags": [
     "outputPrepend"
    ]
   },
   "outputs": [
    {
     "output_type": "stream",
     "name": "stdout",
     "text": [
      "(){setTimeout(c,r)}var s=a.ue_dserr||!1,p=!0,n=1,r=2E3,g=0;a.ue_err&&s&&(a.ue_err.errorHandlers||(a.ue_err.errorHandlers=[]),a.ue_err.errorHandlers.push({name:\"ext\",handler:function(a){if(!a.logLevel||\"FATAL\"===a.logLevel){var f=c(!0),d=[],h;for(h in f){var f=h,g=f.match(/amazon(\\.com?)?\\.\\w{2,3}$/i);g&&1<g.length||-1!==f.indexOf(\"amazon-adsystem.com\")||-1!==f.indexOf(\"amazonpay.com\")||-1!==f.indexOf(\"cloudfront-labs.amazonaws.com\")||\nd.push(h)}a.ext=d}}}));a.ue&&a.ue.isl?c():a.ue&&ue.attach&&ue.attach(\"load\",q)})(document,window);\n\n\n\n\n\nvar ue_wtc_c = 3;\nue_csm.ue.exec(function(b,e){function l(){for(var a=0;a<f.length;a++)a:for(var d=s.replace(A,f[a])+g[f[a]]+t,c=arguments,b=0;b<c.length;b++)try{c[b].send(d);break a}catch(e){}g={};f=[];n=0;k=p}function u(){B?l(q):l(C,q)}function v(a,m,c){r++;if(r>w)d.count&&1==r-w&&(d.count(\"WeblabTriggerThresholdReached\",1),b.ue_int&&console.error(\"Number of max call reached. Data will no longer be send\"));else{var h=c||{};h&&-1<h.constructor.toString().indexOf(D)&&a&&-1<a.constructor.toString().indexOf(x)&&m&&-1<\nm.constructor.toString().indexOf(x)?(h=b.ue_id,c&&c.rid&&(h=c.rid),c=h,a=encodeURIComponent(\",wl=\"+a+\"/\"+m),2E3>a.length+p?(2E3<k+a.length&&u(),void 0===g[c]&&(g[c]=\"\",f.push(c)),g[c]+=a,k+=a.length,n||(n=e.setTimeout(u,E))):b.ue_int&&console.error(\"Invalid API call. The input provided is over 2000 chars.\")):d.count&&(d.count(\"WeblabTriggerImproperAPICall\",1),b.ue_int&&console.error(\"Invalid API call. The input provided does not match the API protocol i.e ue.trigger(String, String, Object).\"))}}function F(){d.trigger&&\nd.trigger.isStub&&d.trigger.replay(function(a){v.apply(this,a)})}function y(){z||(f.length&&l(q),z=!0)}var t=\":1234\",s=\"//\"+b.ue_furl+\"/1/remote-weblab-triggers/1/OE/\"+b.ue_mid+\":\"+b.ue_sid+\":PLCHLDR_RID$s:wl-client-id%3DCSMTriger\",A=\"PLCHLDR_RID\",E=b.wtt||1E4,p=s.length+t.length,w=b.mwtc||2E3,G=1===e.ue_wtc_c,B=3===e.ue_wtc_c,H=e.XMLHttpRequest&&\"withCredentials\"in new e.XMLHttpRequest,x=\"String\",D=\"Object\",d=b.ue,g={},f=[],k=p,n,z=!1,r=0,C=function(){return{send:function(a){if(H){var b=new e.XMLHttpRequest;\nb.open(\"GET\",a,!0);G&&(b.withCredentials=!0);b.send()}else throw\"\";}}}(),q=function(){return{send:function(a){(new Image).src=a}}}();e.encodeURIComponent&&(d.attach&&(d.attach(\"beforeunload\",y),d.attach(\"pagehide\",y)),F(),d.trigger=v)},\"client-wbl-trg\")(ue_csm,window);\n\n\n(function(k,d,h){function f(a,c,b){a&&a.indexOf&&0===a.indexOf(\"http\")&&0!==a.indexOf(\"https\")&&l(s,c,a,b)}function g(a,c,b){a&&a.indexOf&&(location.href.split(\"#\")[0]!=a&&null!==a&&\"undefined\"!==typeof a||l(t,c,a,b))}function l(a,c,b,e){m[b]||(e=u&&e?n(e):\"N/A\",d.ueLogError&&d.ueLogError({message:a+c+\" : \"+b,logLevel:v,stack:\"N/A\"},{attribution:e}),m[b]=1,p++)}function e(a,c){if(a&&c)for(var b=0;b<a.length;b++)try{c(a[b])}catch(d){}}function q(){return d.performance&&d.performance.getEntriesByType?\nd.performance.getEntriesByType(\"resource\"):[]}function n(a){if(a.id)return\"//*[@id='\"+a.id+\"']\";var c;c=1;var b;for(b=a.previousSibling;b;b=b.previousSibling)b.nodeName==a.nodeName&&(c+=1);b=a.nodeName;1!=c&&(b+=\"[\"+c+\"]\");a.parentNode&&(b=n(a.parentNode)+\"/\"+b);return b}function w(){var a=h.images;a&&a.length&&e(a,function(a){var b=a.getAttribute(\"src\");f(b,\"img\",a);g(b,\"img\",a)})}function x(){var a=h.scripts;a&&a.length&&e(a,function(a){var b=a.getAttribute(\"src\");f(b,\"script\",a);g(b,\"script\",a)})}\nfunction y(){var a=h.styleSheets;a&&a.length&&e(a,function(a){if(a=a.ownerNode){var b=a.getAttribute(\"href\");f(b,\"style\",a);g(b,\"style\",a)}})}function z(){if(A){var a=q();e(a,function(a){f(a.name,a.initiatorType)})}}function B(){e(q(),function(a){g(a.name,a.initiatorType)})}function r(){var a;a=d.location&&d.location.protocol?d.location.protocol:void 0;\"https:\"==a&&(z(),w(),x(),y(),B(),p<C&&setTimeout(r,D))}var s=\"[CSM] Insecure content detected \",t=\"[CSM] Ajax request to same page detected \",v=\"WARN\",\nm={},p=0,D=k.ue_nsip||1E3,C=5,A=1==k.ue_urt,u=!0;ue_csm.ue_disableNonSecure||(d.performance&&d.performance.setResourceTimingBufferSize&&d.performance.setResourceTimingBufferSize(300),r())})(ue_csm,window,document);\n\n\nvar ue_aa_a = \"\";\nif (ue.trigger && (ue_aa_a === \"C\" || ue_aa_a === \"T1\")) {\n    ue.trigger(\"UEDATA_AA_SERVERSIDE_ASSIGNMENT_CLIENTSIDE_TRIGGER_190249\", ue_aa_a);\n}\n(function(f,b){function g(){try{b.PerformanceObserver&&\"function\"===typeof b.PerformanceObserver&&(a=new b.PerformanceObserver(function(b){c(b.getEntries())}),a.observe(d))}catch(h){k()}}function m(){for(var h=d.entryTypes,a=0;a<h.length;a++)c(b.performance.getEntriesByType(h[a]))}function c(a){if(a&&Array.isArray(a)){for(var c=0,e=0;e<a.length;e++){var d=l.indexOf(a[e].name);if(-1!==d){var g=Math.round(b.performance.timing.navigationStart+a[e].startTime);f.uet(n[d],void 0,void 0,g);c++}}l.length===\nc&&k()}}function k(){a&&a.disconnect&&\"function\"===typeof a.disconnect&&a.disconnect()}if(\"function\"===typeof f.uet&&b.performance&&\"object\"===typeof b.performance&&b.performance.getEntriesByType&&\"function\"===typeof b.performance.getEntriesByType&&b.performance.timing&&\"object\"===typeof b.performance.timing&&\"number\"===typeof b.performance.timing.navigationStart){var d={entryTypes:[\"paint\"]},l=[\"first-paint\",\"first-contentful-paint\"],n=[\"fp\",\"fcp\"],a;try{m(),g()}catch(p){f.ueLogError(p,{logLevel:\"ERROR\",\nattribution:\"performanceMetrics\"})}}})(ue_csm,window);\n\n\nif (window.csa) {\n    csa(\"Events\")(\"setEntity\", {\n        page:{pageType: \"Detail\", subPageType: \"Glance\", pageTypeId: \"B08DDYYZ3G\"}\n    });\n}\ncsa.plugin(function(e){var i=\"transitionStart\",n=\"pageVisible\",t=\"PageTiming\",a=\"visibilitychange\",o=e(\"Events\",{producerId:\"csa\"}),r=(e.global.performance||{}).timing,d=[\"navigationStart\",\"unloadEventStart\",\"unloadEventEnd\",\"redirectStart\",\"redirectEnd\",\"fetchStart\",\"domainLookupStart\",\"domainLookupEnd\",\"connectStart\",\"connectEnd\",\"secureConnectionStart\",\"requestStart\",\"responseStart\",\"responseEnd\",\"domLoading\",\"domInteractive\",\"domContentLoadedEventStart\",\"domContentLoadedEventEnd\",\"domComplete\",\"loadEventStart\",\"loadEventEnd\"],c=e.config,s=e.global.document||{},l=(r||{}).navigationStart,u=l,m={},v=0,g=0,f=c[t+\".BatchInterval\"]||3e3,p=0,S=!0;if(!c[\"KillSwitch.\"+t]){if(!r||null===l||l<=0||void 0===l)return e.error(\"Invalid navigation timing data: \"+l);(\"boolean\"==typeof s.hidden||\"string\"==typeof s.visibilityState)&&s.addEventListener&&s.removeEventListener&&((S=L())?(E(n,l),b()):s.addEventListener(a,function t(){(S=L())&&(u=e.time(),s.removeEventListener(a,t),E(n,u),E(i,u),b())})),e.once(\"$unload\",h),e.once(\"$load\",h),e.on(\"$beforePageTransition\",y),e.on(\"$pageTransition\",function(){u=e.time()}),e.register(t,{mark:E})}function E(t,n){null!=t&&(n=n||e.time(),t===i&&(u=n),m[t]=n,b(),e.emit(\"$timing:\"+t,n))}function h(){!function(){if(p)return;for(var t=0;t<d.length;t++)r[d[t]]&&E(d[t],r[d[t]]);p=1}(),v=1,b(!0)}function b(t){v&&S&&!g&&(g=setTimeout(y,t?0:f))}function y(){0<Object.keys(m).length&&(o(\"log\",{markers:function(t,n){var e={};for(var i in t)t.hasOwnProperty(i)&&(e[i]=Math.max(0,t[i]-n));return e}(m,u),markerTimestamps:function(t){for(var n in t)t.hasOwnProperty(n)&&(t[n]=Math.floor(t[n]));return t}(m),navigationStartTimestamp:u?new Date(u).toISOString():null,schemaId:\"<ns>.PageLatency.5\"},{ent:{page:[\"pageType\",\"subPageType\",\"requestId\"]}}),m={}),g=0}function L(){return!s.hidden||\"visible\"===s.visibilityState}});csa.plugin(function(e){var a,t=\"requestAnimationFrame\",f=\"length\",u=\"parentElement\",i=\"target\",r=\"getEntriesByName\",o=\"_osrc\",c=\"_elt\",d=\"_eid\",l=10,h=5,g=10,s=100,m=e.global,n=m.setTimeout,v=m.Math,p=v.max,E=v.floor,y=v.ceil,x=m.document,T=m.performance||{},w=(T.timing||{}).navigationStart,O=Date.now,S=Object.values,b=e(\"PageTiming\"),I=e(\"SpeedIndexBuffers\"),N=[],B=[],H=[],L=[],W=[],_=.1,k=.1,C=0,F=0,P=!0,R=0,X=0,Y=0,$=0,V=1,j=0,q=[],A=0;function D(){for(var e=O(),n=0;a;){if(0!==a[f]){if(!1!==a.h(a[0])&&a.shift(),n++,!Y&&n%l==0&&O()-e>h)break}else a=a.n}C=0,a&&0<a[f]&&(C=C||m[t](D))}function M(e,n,t,i){j=E(e),N=n,B=t,W=i;var r=x.createTreeWalker(x.body,NodeFilter.SHOW_TEXT,null,null),o={w:m.innerWidth,h:m.innerHeight,x:m.pageXOffset,y:m.pageYOffset};x.body[c]=e,H.push({w:r,vp:o}),L.push({img:x.images,iter:0}),N.h=z,(N.n=B).h=G,(B.n=H).h=J,(H.n=L).h=K,(L.n=W).h=Q,a=N,D()}function z(e){e.m.forEach(function(e){var n=e[i];o in n||(n[o]=e.oldValue)})}function G(n){n.m.forEach(function(e){e[i][c]=n.t-w})}function J(e){for(var n,t=e.vp,i=e.w,r=l;(n=i.nextNode())&&0<r;){r-=1;var o=(n[u]||{}).nodeName;\"SCRIPT\"!==o&&\"STYLE\"!==o&&\"NOSCRIPT\"!==o&&0!==(n.nodeValue||\"\").trim()[f]&&ee(n[u],U(n),t)}return!n}function K(e){for(var n,t={w:m.innerWidth,h:m.innerHeight,x:m.pageXOffset,y:m.pageYOffset},i=l;e.iter<e.img[f]&&0<i;){var r=e.img[e.iter];ee(r,Z((n=r)[o],n)||Z(n.currentSrc,n)||Z(n.src,n),t),e.iter+=1,i-=1}return e.img[f]<=e.iter}function Q(e){var n=[],i=0,r=0,o=F,t=E(e.y/s),a=y((e.y+m.innerHeight)/s);q.slice(t,a).forEach(function(e){(e.elems||[]).forEach(function(e){e.lt in n||(n[e.lt]={}),e.id in n[e.lt]||(i+=(n[e.lt][e.id]=e).a)})}),S(n).forEach(function(e){S(e).forEach(function(e){var n=1-r/i,t=p(e.lt,o);A+=n*(t-o),o=t,function(e,n){for(;_<=1&&_-.01<=e;)ne(\"visuallyLoaded\"+(100*_).toFixed(0),n),_+=k}((r+=e.a)/i,e.lt)})}),F=e.t-w,W[f]<=1&&(ne(\"speedIndex\",A),ne(\"visuallyLoaded0\",j)),P&&(P=!1,ne(\"atfSpeedIndex\",A))}function U(e){for(var n=e[u],t=g;n&&0<t;){if(n[c]||0===n[c])return p(n[c],j);n=n.parentElement,t-=1}}function Z(e,n){if(e){if(!e.indexOf(\"data:\"))return U(n);var t=T[r](e)||[];if(0<t[f])return p(y(t[0].responseEnd||0),j)}}function ee(e,n,t){if((n||0===n)&&!e[d]){var i=e.getBoundingClientRect(),r=i.width*i.height,o=i.width/2,a=V++;if(0!=r&&!(o<i.right-t.w||i.right<o)){for(var f={e:e,lt:n,a:r,id:a},u=E((i.top+t.y)/s),c=y((i.top+t.y+i.height)/s),l=u;l<=c;l++)l in q||(q[l]={elems:[],lt:0}),q[l].elems.push(f);e[d]=a}}}function ne(e,n){b(\"mark\",e,w+y(n||0))}function te(){$||(I(\"getBuffers\",M),$=1)}w&&S&&T[r]&&(I(\"registerListener\",function(e){X&&(clearTimeout(R),R=n(te,2500))}),e.once(\"$unload\",function(){Y=1,te()}),e.once(\"$load\",function(){X=1,R=n(te,2500)}),e.once(\"$timing:functional\",te))});csa.plugin(function(e){var m=!!e.config[\"LCP.elementDedup\"],t=!1,n=e(\"PageTiming\"),r=e.global.PerformanceObserver,a=e.global.performance;if(r&&a&&a.timing){var i=e.exec(function(){t||function(o){var l=new r(function(e){var t=e.getEntries();if(0!==t.length){var n=t[t.length-1];if(m&&\"\"!==n.id&&n.element&&\"IMG\"===n.element.tagName){for(var r={},a=t[0],i=0;i<t.length;i++)t[i].id in r||(\"\"!==t[i].id&&(r[t[i].id]=!0),a.startTime<t[i].startTime&&(a=t[i]));n=a}l.disconnect(),o({startTime:n.startTime,renderTime:n.renderTime,loadTime:n.loadTime})}});try{l.observe({type:\"largest-contentful-paint\",buffered:!0})}catch(e){}}(function(e){e&&(t=!0,n(\"mark\",\"largestContentfulPaint\",Math.floor(e.startTime+o())),e.renderTime&&n(\"mark\",\"largestContentfulPaint.render\",Math.floor(e.renderTime+o())),e.loadTime&&n(\"mark\",\"largestContentfulPaint.load\",Math.floor(e.loadTime+o())))})});e.once(\"$unload\",i),e.once(\"$load\",i),e.register(\"LargestContentfulPaint\",{})}function o(){return a.timing.navigationStart}});csa.plugin(function(r){var e=r(\"Metrics\",{producerId:\"csa\"}),n=r.global.PerformanceObserver;n&&(n=new n(function(r){var t=r.getEntries();if(0===t.length||!t[0].processingStart||!t[0].startTime)return;!function(r){r=r||0,n.disconnect(),0<=r?e(\"recordMetric\",\"firstInputDelay\",r):e(\"recordMetric\",\"firstInputDelay.invalid\",1)}(t[0].processingStart-t[0].startTime)}),function(){try{n.observe({type:\"first-input\",buffered:!0})}catch(r){}}())});csa.plugin(function(d){var e=\"Metrics\",r=d.config,u=r[e+\".BatchInterval\"]||3e3;function n(e){var r=e.producerId,n=e.logger,t=n||d(\"Events\",{producerId:r}),i={},o=(e||{}).dimensions||{},c=0;if(!r&&!n)return d.error(\"Either a producer id or custom logger must be defined\");function s(){Object.keys(i).length&&(t(\"log\",{schemaId:e.schemaId||\"<ns>.Metric.3\",metrics:i,dimensions:o},e.logOptions||{ent:{page:[\"pageType\",\"subPageType\",\"requestId\"]}}),i={}),c=0}this.recordMetric=function(e,r){i[e]=r,c=c||setTimeout(s,u)},d.on(\"$beforeunload\",s),d.on(\"$beforePageTransition\",s)}r[\"KillSwitch.\"+e]||(new n({producerId:\"csa\"}).recordMetric(\"baselineMetricEvent\",1),d.register(e,{instance:function(e){return new n(e||{})}}))});csa.plugin(function(c){var e=\"Timers\",r=(c.global.performance||{}).timing,s=(r||{}).navigationStart||c.time(),u=c.config[e+\".BatchInterval\"]||3e3;function n(e){var r=(e=e||{}).producerId,n=e.logger,o={},t=0,i=n||c(\"Events\",{producerId:r});if(!r&&!n)return c.error(\"Either a producer id or custom logger must be defined\");function a(){0<Object.keys(o).length&&(i(\"log\",{markers:o,schemaId:e.schemaId||\"<ns>.Timer.1\"},e.logOptions),o={}),clearTimeout(t),t=0}this.mark=function(e,r){o[e]=(void 0===r?c.time():r)-s,t=t||setTimeout(a,u)},c.once(\"$beforeunload\",a),c.once(\"$beforePageTransition\",a)}r&&c.register(e,{instance:function(e){return new n(e||{})}})});csa.plugin(function(t){var e=\"takeRecords\",i=\"disconnect\",n=\"function\",o=\"addEventListener\",c=\"removeEventListener\",a=\"click\",r=t(\"Metrics\",{producerId:\"csa\"}),u=t(\"PageTiming\"),f=t.global,m=f.PerformanceObserver,s=0,l=!1,d=0,v=f.performance,h=f.document,y=null,g=!1;if(m&&v&&v.timing&&h){m=new m(function(t){y&&clearTimeout(y);t.getEntries().forEach(function(t){t.hadRecentInput||(s+=t.value,d<t.startTime&&(d=t.startTime))}),y=setTimeout(T,5e3)}),function(){try{m.observe({type:\"layout-shift\",buffered:!0}),y=setTimeout(T,5e3)}catch(t){}}();var p=t.exec(T);h[o](a,function t(e){g||(g=!0,r(\"recordMetric\",\"documentCumulativeLayoutShiftToFirstInput\",s),h[c](a,t))}),h[o](\"visibilitychange\",function(){\"hidden\"===h.visibilityState&&p()}),t.once(\"$unload\",p)}function T(){l||(l=!0,clearTimeout(y),typeof m[e]===n&&m[e](),typeof m[i]===n&&m[i](),r(\"recordMetric\",\"documentCumulativeLayoutShift\",s),u(\"mark\",\"cumulativeLayoutShiftLastTimestamp\",Math.floor(d+v.timing.navigationStart)))}});csa.plugin(function(e){var n=e.global,r=n.PerformanceObserver,t=e(\"Metrics\",{producerId:\"csa\"}),o=0,c=0,i=-1,a=n.Math,l=a.max,f=a.ceil;function u(){t(\"recordMetric\",\"totalBlockingTime\",f(c||0)),t(\"recordMetric\",\"totalBlockingTimeInclLCP\",f(o||0)),t(\"recordMetric\",\"maxBlockingTime\",f(i||0)),c=o=0,i=-1}r&&(new r(e.exec(function(e){e.getEntries().forEach(function(e){var n=e.duration;o+=n,c+=n,i=l(n,i)})})).observe({type:\"longtask\",buffered:!0}),new r(e.exec(function(e){0<e.getEntries().length&&(c=0,i=-1)})).observe({type:\"largest-contentful-paint\",buffered:!0}),e.on(\"$unload\",u),e.on(\"$beforePageTransition\",u))});csa.plugin(function(r){var e=\"CacheDetection\",o=\"csa-ctoken-\",n=r.store,t=r.deleteStored,c=r.config,a=c[e+\".RequestID\"],s=c[e+\".Callback\"],i=r.global,u=i.document||{},d=i.Date,f=r(\"Events\"),l=r(\"Events\",{producerId:\"csa\"});function p(e){try{var n=u.cookie.match(RegExp(\"(^| )\"+e+\"=([^;]+)\"));return n&&n[2].trim()}catch(e){}}!function(){var e=function(){var e=p(\"cdn-rid\");if(e)return{r:e,s:\"cdn\"}}()||function(){if(r.store(o+a))return{r:r.UUID().toUpperCase().replace(/-/g,\"\").slice(0,20),s:\"device\"}}()||{},n=e.r,c=e.s;if(!!n){var t=p(\"session-id\");!function(e,n,c){f(\"setEntity\",{page:{pageSource:\"cache\",requestId:e,cacheRequestId:a},session:{id:c}}),l(\"log\",{schemaId:\"<ns>.CacheImpression.1\"},{ent:\"all\"})}(n,0,t),s&&s(n,t,c)}}(),n(o+a,d.now()+36e5),r.once(\"$load\",r.exec(function(){var c=d.now();t(function(e,n){return 0==e.indexOf(o)&&parseInt(n)<c})}))});csa.plugin(function(c){var i,t=\"Content\",e=\"MutationObserver\",n=\"requestAnimationFrame\",r=\"addedNodes\",u=\"querySelectorAll\",a=\"matches\",o=\"getAttributeNames\",s=\"getAttribute\",f=\"dataset\",l=\"widget\",d=\"producerId\",m={ent:{element:1,page:[\"pageType\",\"subPageType\",\"requestId\"]}},h=5,g=10,p=\"csaC\",v=p+\"Id\",y={},E=c.config,b=E[t+\".Selectors\"]||[],I=E[t+\".WhitelistedAttributes\"]||{href:1,class:1},w=E[t+\".EnableContentEntities\"],A=c.global,C=A.document||{},k=C.documentElement,L=A.HTMLElement,N={},O=[],U=function(t,e,n,i){var r=this,o=c(\"Events\",{producerId:t||\"csa\"});e.type=e.type||l,r.id=e.id,r.l=o,r.e=e,r.el=n,r.rt=i,r.dlo=m,r.log=function(t,e){o(\"log\",t,e||m)},e.id&&o(\"setEntity\",{element:e})},q=U.prototype;function T(t){var e=(t=t||{}).element,n=t.target;return e?function(t,e){var n;n=t instanceof L?F(t)||$(e[d],t,H,c.time()):N[t.id]||_(e[d],0,t,c.time());return n}(e,t):n?function(t){var e,n=function(t){var e=null,n=0;for(;t&&n<g;){if(n++,j(t,v)){e=t;break}t=t.parentElement}return e}(t);e=n?F(n):new U(\"csa\",{id:null},null,c.time());return e}(n):c.error(\"No element or target argument provided.\")}function j(t,e){if(t&&t.dataset)return t.dataset[e]}function x(t,e,n){O.push({n:n,e:t,t:e}),M()}function D(){for(var t=c.time(),e=0;0<O.length;){var n=O.shift();if(y[n.n](n.e,n.t),++e%10==0&&c.time()-t>h)break}i=0,O.length&&M()}function M(){i=i||A[n](D)}function S(t,e,n){return{n:t,e:e,t:n}}function $(t,e,n,i){var r=c.UUID(),o={id:r};return e[f][v]=r,n(o,e),_(t,e,o,i)}function _(t,e,n,i){w&&(n.schemaId=\"<ns>.ContentEntity.2\"),n.id=n.id||c.UUID();var r=new U(t,n,e,i);return w&&r.log({schemaId:\"<ns>.ContentRender.1\",timestamp:i}),c.emit(\"$content.register\",r),N[n.id]=r}function F(t){return N[(t[f]||{})[v]]}function H(t,e){o in e&&(function(n,i){Object.keys(n[f]).forEach(function(t){if(!t.indexOf(p)&&p.length<t.length){var e=function(t){return(t[0]||\"\").toLowerCase()+t.slice(1)}(t.slice(p.length));i[e]=n[f][t]}})}(e,t),function(e,n){(e[o]()||[]).forEach(function(t){t in I&&(n[t]=e[s](t))})}(e,t))}k&&A[n]&&C[u]&&A[e]&&(b.push({selector:\"*[data-csa-c-type]\",entity:H}),b.push({selector:\".celwidget\",entity:function(t,e){H(t,e),t.slotId=t.slotId||e[s](\"cel_widget_id\")||e.id,t.type=t.type||l}}),y[1]=function(t,e){t.forEach(function(t){t[r]&&t[r].constructor&&\"NodeList\"===t[r].constructor.name&&Array.prototype.forEach.call(t[r],function(t){O.unshift(S(2,t,e))})})},y[2]=function(o,c){u in o&&a in o&&b.forEach(function(t){var e=t.selector,n=o[a](e),i=o[u](e);n&&O.unshift(S(3,{e:o,s:t},c));for(var r=0;r<i.length;r++)O.unshift(S(3,{e:i[r],s:t},c))})},y[3]=function(t,e){var n=t.e;F(n)||$(\"csa\",n,t.s.entity,e)},y[4]=function(){c.register(t,{instance:T})},new A[e](function(t){x(t,c.time(),1)}).observe(k,{childList:!0,subtree:!0}),x(k,c.time(),2),x(null,c.time(),4),c.on(\"$content.export\",function(e){Object.keys(e).forEach(function(t){q[t]=e[t]})}))});csa.plugin(function(n){var i,t=\"ContentImpressions\",e=\"KillSwitch.\",o=\"IntersectionObserver\",r=\"getAttribute\",s=\"dataset\",c=\"intersectionRatio\",a=\"csaCId\",m=1e3,l=n.global,f=n.config,g=f[e+t],u=f[e+t+\".ContentViews\"],v=((l.performance||{}).timing||{}).navigationStart||n.time(),d={};function h(t){t&&(t.v=1,function(t){t.vt=n.time(),t.el.log({schemaId:\"<ns>.ContentView.2\",timeToViewed:t.vt-t.el.rt,pageFirstPaintToElementViewed:t.vt-v})}(t))}function I(t){t&&!t.it&&(t.i=n.time()-t.is>m,function(t){t.it=n.time(),t.el.log({schemaId:\"<ns>.ContentImpressed.2\",timeToImpressed:t.it-t.el.rt,pageFirstPaintToElementImpressed:t.it-v})}(t))}!g&&l[o]&&(i=new l[o](function(t){t.forEach(function(t){var e=function(t){if(t&&t[r])return d[t[s][a]]}(t.target);if(e){var i=t.intersectionRect;t.isIntersecting&&0<i.width&&0<i.height&&(u||e.v||h(e),.5<=t[c]&&!e.is&&(e.is=n.time(),e.timer=l.setTimeout(I.bind(this,e),m))),t[c]<.5&&!e.it&&e.timer&&(l.clearTimeout(e.timer),e.is=0,e.timer=0)}})},{threshold:[0,.5]}),n.on(\"$content.register\",function(t){var e=t.el;e&&(d[t.id]={el:t,v:0,i:0,is:0,vt:0,it:0},i.observe(e))}))});csa.plugin(function(e){e.config[\"KillSwitch.ContentLatency\"]||e.emit(\"$content.export\",{mark:function(t,n){var o=this;o.t||(o.t=e(\"Timers\",{logger:o.l,schemaId:\"<ns>.ContentLatency.1\",logOptions:o.dlo})),o.t(\"mark\",t,n)}})});\nif (window.ue && window.ue.uels) {\n    ue.uels(\"https://c.amazon-adsystem.com/bao-csm/forensics/a9-tq-forensics.min.js\");\n}\n\n\n}\n/* ◬ */\n</script>\n\n</div>\n\n<noscript>\n    <img height=\"1\" width=\"1\" style='display:none;visibility:hidden;' src='//fls-eu.amazon.in/1/batch/1/OP/A21TJRUUN4KGV:262-3591783-1745613:Y0BWZ46R59NE6N18DY4T$uedata=s:%2Frd%2Fuedata%3Fnoscript%26id%3DY0BWZ46R59NE6N18DY4T:0' alt=\"\"/>\n</noscript>\n\n</div>\n\n\n\n"
     ]
    }
   ],
   "source": [
    "driver.get(url)\n",
    "body = driver.find_element_by_css_selector('body')\n",
    "html_str = body.get_attribute('innerHTML')\n",
    "print(html_str)"
   ]
  },
  {
   "cell_type": "code",
   "execution_count": 27,
   "metadata": {},
   "outputs": [],
   "source": [
    "html_obj = HTML(html=html_str)"
   ]
  },
  {
   "cell_type": "code",
   "execution_count": 28,
   "metadata": {},
   "outputs": [
    {
     "output_type": "execute_result",
     "data": {
      "text/plain": [
       "'AVITA Essential NE14A2INC433-CR 14-inch Laptop (Celeron N4000/4GB/128GB SSD/Window 10 Home in S Mode/Integrated Graphics), Concrete Grey'"
      ]
     },
     "metadata": {},
     "execution_count": 28
    }
   ],
   "source": [
    "product_title = html_obj.find(title_lookup, first=True).text\n",
    "product_title"
   ]
  },
  {
   "cell_type": "code",
   "execution_count": 29,
   "metadata": {},
   "outputs": [
    {
     "output_type": "execute_result",
     "data": {
      "text/plain": [
       "'₹\\xa019,990.00'"
      ]
     },
     "metadata": {},
     "execution_count": 29
    }
   ],
   "source": [
    "product_price = html_obj.find(price_lookup, first=True).text\n",
    "product_price"
   ]
  },
  {
   "cell_type": "code",
   "execution_count": null,
   "metadata": {},
   "outputs": [],
   "source": []
  }
 ]
}