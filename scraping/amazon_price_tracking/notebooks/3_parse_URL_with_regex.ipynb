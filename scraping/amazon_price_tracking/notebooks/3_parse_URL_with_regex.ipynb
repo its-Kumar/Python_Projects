{
 "metadata": {
  "language_info": {
   "codemirror_mode": {
    "name": "ipython",
    "version": 3
   },
   "file_extension": ".py",
   "mimetype": "text/x-python",
   "name": "python",
   "nbconvert_exporter": "python",
   "pygments_lexer": "ipython3",
   "version": "3.8.3-final"
  },
  "orig_nbformat": 2,
  "kernelspec": {
   "name": "python3",
   "display_name": "Python 3",
   "language": "python"
  }
 },
 "nbformat": 4,
 "nbformat_minor": 2,
 "cells": [
  {
   "cell_type": "code",
   "execution_count": 2,
   "metadata": {},
   "outputs": [],
   "source": [
    "import requests\n",
    "import time\n",
    "from requests_html import HTML\n",
    "from selenium import webdriver\n",
    "from selenium.webdriver.firefox.options import Options"
   ]
  },
  {
   "cell_type": "code",
   "execution_count": 3,
   "metadata": {},
   "outputs": [],
   "source": [
    "options = Options()\n",
    "options.add_argument('--headless')\n",
    "\n",
    "driver = webdriver.Firefox(options=options, executable_path=\"./geckodriver\")"
   ]
  },
  {
   "cell_type": "code",
   "execution_count": 4,
   "metadata": {},
   "outputs": [],
   "source": [
    "categories = [\n",
    "    \"https://www.amazon.in/gp/bestsellers/electronics/ref=zg_bs_nav_0\",\n",
    "    \"https://www.amazon.in/gp/bestsellers/computers/ref=zg_bs_nav_0\",\n",
    "    \"https://www.amazon.in/gp/bestsellers/apparel/ref=zg_bs_nav_0\",\n",
    "]"
   ]
  },
  {
   "cell_type": "code",
   "execution_count": 5,
   "metadata": {},
   "outputs": [
    {
     "output_type": "execute_result",
     "data": {
      "text/plain": [
       "['https://www.amazon.in/gp/bestsellers/electronics/ref=zg_bs_nav_0',\n",
       " 'https://www.amazon.in/gp/bestsellers/computers/ref=zg_bs_nav_0',\n",
       " 'https://www.amazon.in/gp/bestsellers/apparel/ref=zg_bs_nav_0']"
      ]
     },
     "metadata": {},
     "execution_count": 5
    }
   ],
   "source": [
    "categories"
   ]
  },
  {
   "cell_type": "code",
   "execution_count": 6,
   "metadata": {},
   "outputs": [],
   "source": [
    "first_url = categories[0]\n",
    "driver.get(first_url)\n",
    "body = driver.find_element_by_css_selector(\"body\")\n",
    "html_str = body.get_attribute(\"innerHTML\")"
   ]
  },
  {
   "cell_type": "code",
   "execution_count": 7,
   "metadata": {},
   "outputs": [],
   "source": [
    "html_obj = HTML(html=html_str)"
   ]
  },
  {
   "cell_type": "code",
   "execution_count": 8,
   "metadata": {},
   "outputs": [
    {
     "output_type": "execute_result",
     "data": {
      "text/plain": [
       "['/Samsung-Galaxy-Prime-Ocean-Storage/dp/B085J3GN6M/ref=zg_bs_electronics_12/262-3070226-5117809?_encoding=UTF8&psc=1&refRID=BXV8MV216D57NBTRF4PN',\n",
       " '/Samsung-Galaxy-Storage-Additional-Exchange/dp/B086KCCMCP/ref=zg_bs_electronics_45/262-3070226-5117809?_encoding=UTF8&psc=1&refRID=BXV8MV216D57NBTRF4PN',\n",
       " '/gp/prime/ref=nav_prime_ajax_err/262-3070226-5117809',\n",
       " '/Oppo-Fantasy-Storage-Additional-Exchange/dp/B08444SXZ6/ref=zg_bs_electronics_40/262-3070226-5117809?_encoding=UTF8&psc=1&refRID=BXV8MV216D57NBTRF4PN',\n",
       " '/Samsung-Galaxy-Storage-Additional-Exchange/dp/B086KCDGTQ/ref=zg_bs_electronics_26/262-3070226-5117809?_encoding=UTF8&psc=1&refRID=BXV8MV216D57NBTRF4PN']"
      ]
     },
     "metadata": {},
     "execution_count": 8
    }
   ],
   "source": [
    "new_links = [x for x in html_obj.links if x.startswith(\"/\")]\n",
    "new_links = [x for x in new_links if \"/product-reviews\" not in x]\n",
    "new_links[:5]"
   ]
  },
  {
   "cell_type": "code",
   "execution_count": 9,
   "metadata": {},
   "outputs": [
    {
     "output_type": "execute_result",
     "data": {
      "text/plain": [
       "100"
      ]
     },
     "metadata": {},
     "execution_count": 9
    }
   ],
   "source": [
    "len(new_links)"
   ]
  },
  {
   "cell_type": "code",
   "execution_count": 10,
   "metadata": {},
   "outputs": [],
   "source": [
    "def scrape_product_page(url, title_lookup=\"#productTitle\",price_lookup=\"#priceblock_ourprice\"):\n",
    "    driver.get(url)\n",
    "    time.sleep(1.2)\n",
    "    body_el = driver.find_element_by_css_selector(\"body\")\n",
    "    html_str = body_el.get_attribute(\"innerHTML\")\n",
    "    html_obj = HTML(html=html_str)\n",
    "    product_title = html_obj.find(title_lookup, first=True).text\n",
    "    product_price = html_obj.find(price_lookup, first=True).text\n",
    "    return product_title, product_price"
   ]
  },
  {
   "cell_type": "code",
   "execution_count": 11,
   "metadata": {},
   "outputs": [],
   "source": [
    "# 'https://amazon.in/OnePlus-Buds-Z-White/dp/B07XY541GH/ref=zg_bs_electronics_10/259-0783252-4776544?_encoding=UTF8&psc=1&refRID=ZKDVTAN6T53MJ4QJRMX2'\n",
    "\n",
    "# pattern\n",
    "# <base_url>/<slug>/dp/<product-id>\n"
   ]
  },
  {
   "cell_type": "code",
   "execution_count": 12,
   "metadata": {},
   "outputs": [],
   "source": [
    "my_regex_pattern = r\"https://amazon.in/(?P<slug>[\\w-]+)/dp/(?P<product_id>[\\w-]+)/\"\n",
    "my_url = \"https://amazon.in/OnePlus-Buds-Z-White/dp/B07XY541GH/ref=zg_bs_electronics_10/259-0783252-4776544?_encoding=UTF8&psc=1&refRID=ZKDVTAN6T53MJ4QJRMX2\"\n"
   ]
  },
  {
   "cell_type": "code",
   "execution_count": 13,
   "metadata": {},
   "outputs": [
    {
     "output_type": "execute_result",
     "data": {
      "text/plain": [
       "('OnePlus-Buds-Z-White', 'B07XY541GH')"
      ]
     },
     "metadata": {},
     "execution_count": 13
    }
   ],
   "source": [
    "import re\n",
    "regex = re.compile(my_regex_pattern)\n",
    "match = regex.match(my_url)\n",
    "match.groups()"
   ]
  },
  {
   "cell_type": "code",
   "execution_count": 14,
   "metadata": {},
   "outputs": [
    {
     "output_type": "execute_result",
     "data": {
      "text/plain": [
       "{'slug': 'OnePlus-Buds-Z-White', 'product_id': 'B07XY541GH'}"
      ]
     },
     "metadata": {},
     "execution_count": 14
    }
   ],
   "source": [
    "match.groupdict()"
   ]
  },
  {
   "cell_type": "code",
   "execution_count": 15,
   "metadata": {},
   "outputs": [],
   "source": [
    "regex_options = [\n",
    "    r\"https://amazon.in/gp/product/(?P<product_id>[\\w-]+)/\",\n",
    "    r\"https://amazon.in/dp/(?P<product_id>[\\w-]+)/\",\n",
    "    r\"https://amazon.in/(?P<slug>[\\w-]+)/dp/(?P<product_id>[\\w-]+)/\"\n",
    "]"
   ]
  },
  {
   "cell_type": "code",
   "execution_count": 16,
   "metadata": {},
   "outputs": [],
   "source": [
    "def extract_productid_from_url(url):\n",
    "    product_id = None\n",
    "    for regex_str in regex_options:\n",
    "        regex = re.compile(regex_str)\n",
    "        match = regex.match(url)\n",
    "        if match is not None:\n",
    "            try:\n",
    "                product_id = match['product_id']\n",
    "            except:\n",
    "                pass\n",
    "    return product_id "
   ]
  },
  {
   "cell_type": "code",
   "execution_count": 17,
   "metadata": {},
   "outputs": [
    {
     "output_type": "execute_result",
     "data": {
      "text/plain": [
       "['https://amazon.in/Samsung-Galaxy-Prime-Ocean-Storage/dp/B085J3GN6M/ref=zg_bs_electronics_12/262-3070226-5117809?_encoding=UTF8&psc=1&refRID=BXV8MV216D57NBTRF4PN',\n",
       " 'https://amazon.in/Samsung-Galaxy-Storage-Additional-Exchange/dp/B086KCCMCP/ref=zg_bs_electronics_45/262-3070226-5117809?_encoding=UTF8&psc=1&refRID=BXV8MV216D57NBTRF4PN',\n",
       " 'https://amazon.in/Oppo-Fantasy-Storage-Additional-Exchange/dp/B08444SXZ6/ref=zg_bs_electronics_40/262-3070226-5117809?_encoding=UTF8&psc=1&refRID=BXV8MV216D57NBTRF4PN',\n",
       " 'https://amazon.in/Samsung-Galaxy-Storage-Additional-Exchange/dp/B086KCDGTQ/ref=zg_bs_electronics_26/262-3070226-5117809?_encoding=UTF8&psc=1&refRID=BXV8MV216D57NBTRF4PN',\n",
       " 'https://amazon.in/Tangent-Lite-Magnetic-Bluetooth-Headphones/dp/B085W8CFLH/ref=zg_bs_electronics_28/262-3070226-5117809?_encoding=UTF8&psc=1&refRID=BXV8MV216D57NBTRF4PN']"
      ]
     },
     "metadata": {},
     "execution_count": 17
    }
   ],
   "source": [
    "page_links = [f\"https://amazon.in{x}\" for x in new_links]\n",
    "page_links = [x for x in page_links if extract_productid_from_url(x) is not None]\n",
    "page_links[:5]"
   ]
  },
  {
   "cell_type": "code",
   "execution_count": 18,
   "metadata": {},
   "outputs": [],
   "source": [
    "def perform_scrape(page_links):\n",
    "    for link in page_links:\n",
    "        title, price = (None, None)\n",
    "        try:\n",
    "            title, price = scrape_product_page(link)\n",
    "        except:\n",
    "            pass\n",
    "        if title is not None and price is not None:\n",
    "            print(title, price, sep=\"-\")\n",
    "            "
   ]
  },
  {
   "cell_type": "code",
   "execution_count": 19,
   "metadata": {},
   "outputs": [
    {
     "output_type": "stream",
     "name": "stdout",
     "text": [
      "Samsung Galaxy M01 (Black, 3GB RAM, 32GB Storage) with No Cost EMI/Additional Exchange Offers-₹ 7,499.00\n",
      "Oppo A31 (Fantasy White, 6GB RAM, 128GB Storage) with No Cost EMI/Additional Exchange Offers-₹ 11,990.00\n",
      "Samsung Galaxy M01 (Blue, 3GB RAM, 32GB Storage) with No Cost EMI/Additional Exchange Offers-₹ 7,499.00\n",
      "pTron Tangent Lite Bluetooth 5.0 Wireless Headphones with Hi-Fi Stereo Sound, 6Hrs Playtime, Lightweight Ergonomic Neckband, Sweat-Resistant Magnetic Earbuds, Voice Assistant & Mic - (Black)-₹ 599.00\n",
      "boAt Bassheads 100 in Ear Wired Earphones with Mic(Black)-₹ 375.00\n",
      "Redmi 9A (Sea Blue, 3GB Ram, 32GB Storage)-₹ 7,499.00\n",
      "boAt Rockerz 450 Bluetooth On-Ear Headphone with Mic(Luscious Black)-₹ 1,399.00\n",
      "Tygot Adjustable Aluminium Alloy Tripod Stand Holder for Mobile Phones & Camera, 360 mm -1050 mm, 1/4 inch Screw + Mobile Holder Bracket-₹ 399.00\n",
      "OnePlus Bullets Wireless Z Bass Edition (Reverb Red)-₹ 1,999.00\n",
      "ELV Desktop Cell Phone Stand Tablet Stand, Aluminum Stand Holder for Mobile Phone (All Size) and Tablet (Up to 10.1 inch) - Black-₹ 149.00\n",
      "OnePlus Bullets Wireless Z Bass Edition (Bass Blue)-₹ 1,999.00\n",
      "Infinity (JBL) Glide 120 Metal in-Ear Wireless Flex Neckband with Bluetooth 5.0 and IPX5 Sweatproof (Black and Yellow)-₹ 1,399.00\n",
      "Logitech B170 Wireless Mouse, 2.4 GHz with USB Nano Receiver, Optical Tracking, 12-Months Battery Life, Ambidextrous, PC/Mac/Laptop - Black-₹ 699.00\n",
      "boAt Airdopes 121v2 TWS Earbuds with Bluetooth V5.0, Immersive Audio, Up to 14H Total Playback, Instant Voice Assistant, Easy Access Controls with Mic and Dual Tone Ergonomic Design(Active Black)-₹ 1,299.00\n",
      "OnePlus Buds Z (White)-₹ 2,999.00\n",
      "Havells 6A Four-Way Extension Board (White) -1.5 metre Heavy duty wire-₹ 353.00\n",
      "boAt Airdopes 441 TWS Ear-Buds with IWP Technology, Immersive Audio, Up to 30H Total Playback, IPX7 Water Resistance, Super Touch Controls, Secure Sports Fit & Type-C Port(Active Black)-₹ 1,999.00\n",
      "boAt Bassheads 100 in Ear Wired Earphones with Mic(Furious Red)-₹ 375.00\n",
      "boAt Rockerz 255 Sports in-Ear Bluetooth Neckband Earphone with Mic (Active Black)-₹ 1,399.00\n",
      "All-new Fire TV Stick with Alexa Voice Remote (includes TV controls) | Stream HD Quality Video with Dolby Atmos Audio | 2020 release-₹ 3,999.00\n"
     ]
    }
   ],
   "source": [
    "perform_scrape(page_links)"
   ]
  },
  {
   "cell_type": "code",
   "execution_count": 21,
   "metadata": {},
   "outputs": [],
   "source": [
    "def perform_scrape(page_links):\n",
    "    extracted_data = []\n",
    "    for link in page_links:\n",
    "        title, price = (None, None)\n",
    "        try:\n",
    "            title, price = scrape_product_page(link)\n",
    "        except:\n",
    "            pass\n",
    "        if title is not None and price is not None:\n",
    "            data = {\n",
    "                \"link\": link,\n",
    "                \"product\": title,\n",
    "                \"price\": price \n",
    "            }\n",
    "        extracted_data.append(data)\n",
    "    return extracted_data"
   ]
  },
  {
   "cell_type": "code",
   "execution_count": null,
   "metadata": {},
   "outputs": [],
   "source": []
  },
  {
   "cell_type": "code",
   "execution_count": null,
   "metadata": {},
   "outputs": [],
   "source": []
  }
 ]
}