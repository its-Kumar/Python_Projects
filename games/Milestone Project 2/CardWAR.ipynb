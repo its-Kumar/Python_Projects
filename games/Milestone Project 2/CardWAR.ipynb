{
 "metadata": {
  "language_info": {
   "codemirror_mode": {
    "name": "ipython",
    "version": 3
   },
   "file_extension": ".py",
   "mimetype": "text/x-python",
   "name": "python",
   "nbconvert_exporter": "python",
   "pygments_lexer": "ipython3",
   "version": 3
  },
  "orig_nbformat": 2,
  "kernelspec": {
   "name": "python_defaultSpec_1596267987803",
   "display_name": "Python 3.7.4 64-bit ('base': conda)"
  }
 },
 "nbformat": 4,
 "nbformat_minor": 2,
 "cells": [
  {
   "cell_type": "markdown",
   "metadata": {},
   "source": [
    "# CARD WAR GAME"
   ]
  },
  {
   "cell_type": "code",
   "execution_count": 1,
   "metadata": {},
   "outputs": [],
   "source": [
    "# CARD\n",
    "# SUIT, RANK, VALUE\n",
    "\n",
    "import random\n",
    "suits = ('Hearts', 'Diamonds', 'Spades', 'Clubs')\n",
    "ranks = ('Two', 'Three', 'Four', 'Five', 'Six', 'Seven',\n",
    "     'Eight', 'Nine', 'Ten', 'Jack', 'Queen', 'King', \"Ace\")\n",
    "values = {'Two' : 2, 'Three' : 3, 'Four': 4, 'Five' :5, 'Six':6, 'Seven' :7,\n",
    " 'Eight':8, 'Nine' :9, 'Ten': 10, 'Jack': 11, 'Queen' : 12, 'King' : 13, \"Ace\": 14}"
   ]
  },
  {
   "cell_type": "code",
   "execution_count": 2,
   "metadata": {},
   "outputs": [],
   "source": [
    "# CARD class\n",
    "class Card():\n",
    "\n",
    "    def __init__(self, suit, rank):\n",
    "        self.suit = suit\n",
    "        self.rank = rank\n",
    "        self.value = values[rank]\n",
    "\n",
    "    def __str__(self):\n",
    "        return self.rank + \" of \" + self.suit    "
   ]
  },
  {
   "cell_type": "code",
   "execution_count": 3,
   "metadata": {},
   "outputs": [
    {
     "output_type": "execute_result",
     "data": {
      "text/plain": "<__main__.Card at 0x7f3b1c0ef250>"
     },
     "metadata": {},
     "execution_count": 3
    }
   ],
   "source": [
    "two_hearts = Card(\"Hearts\", \"Two\")\n",
    "two_hearts"
   ]
  },
  {
   "cell_type": "code",
   "execution_count": 4,
   "metadata": {
    "tags": []
   },
   "outputs": [
    {
     "output_type": "stream",
     "name": "stdout",
     "text": "Two of Hearts\n"
    }
   ],
   "source": [
    "print(two_hearts)"
   ]
  },
  {
   "cell_type": "code",
   "execution_count": 5,
   "metadata": {},
   "outputs": [
    {
     "output_type": "execute_result",
     "data": {
      "text/plain": "'Two'"
     },
     "metadata": {},
     "execution_count": 5
    }
   ],
   "source": [
    "two_hearts.rank"
   ]
  },
  {
   "cell_type": "code",
   "execution_count": 6,
   "metadata": {},
   "outputs": [
    {
     "output_type": "execute_result",
     "data": {
      "text/plain": "'Hearts'"
     },
     "metadata": {},
     "execution_count": 6
    }
   ],
   "source": [
    "two_hearts.suit"
   ]
  },
  {
   "cell_type": "code",
   "execution_count": 7,
   "metadata": {},
   "outputs": [
    {
     "output_type": "execute_result",
     "data": {
      "text/plain": "2"
     },
     "metadata": {},
     "execution_count": 7
    }
   ],
   "source": [
    "two_hearts.value"
   ]
  },
  {
   "cell_type": "code",
   "execution_count": 8,
   "metadata": {},
   "outputs": [],
   "source": [
    "# DECK Class\n",
    "\n",
    "class Deck():\n",
    "\n",
    "    def __init__(self):\n",
    "        self.all_cards = []\n",
    "        for suit in suits:\n",
    "            for rank in ranks:\n",
    "                # create card object\n",
    "                self.all_cards.append(Card(suit, rank))\n",
    "    \n",
    "    def shuffle(self):\n",
    "        random.shuffle(self.all_cards)\n",
    "\n",
    "    \n",
    "    def deal_one(self):\n",
    "        return self.all_cards.pop()\n",
    "\n",
    "    \n",
    "        \n"
   ]
  },
  {
   "cell_type": "code",
   "execution_count": 9,
   "metadata": {
    "tags": []
   },
   "outputs": [
    {
     "output_type": "stream",
     "name": "stdout",
     "text": "King of Spades\n"
    }
   ],
   "source": [
    "new_deck = Deck()\n",
    "new_deck.shuffle()\n",
    "my_card = new_deck.deal_one()\n",
    "print(my_card)"
   ]
  },
  {
   "cell_type": "code",
   "execution_count": 10,
   "metadata": {},
   "outputs": [
    {
     "output_type": "execute_result",
     "data": {
      "text/plain": "51"
     },
     "metadata": {},
     "execution_count": 10
    }
   ],
   "source": [
    "len(new_deck.all_cards)"
   ]
  },
  {
   "cell_type": "code",
   "execution_count": 11,
   "metadata": {},
   "outputs": [],
   "source": [
    "# PLAYER class\n",
    "\n",
    "class Player():\n",
    "\n",
    "    def __init__(self, name):\n",
    "        self.name = name\n",
    "        self.all_cards = []\n",
    "\n",
    "    def remove_one(self):\n",
    "        return self.all_cards.pop(0)\n",
    "\n",
    "    def add_cards(self, new_cards):\n",
    "        if type(new_cards) == type([]):\n",
    "            self.all_cards.extend(new_cards)\n",
    "        else:\n",
    "            self.all_cards.append(new_cards)\n",
    "\n",
    "    def __str__(self):\n",
    "        return f\"Player {self.name} has {len(self.all_cards)} cards.\"\n",
    "\n",
    "\n"
   ]
  },
  {
   "cell_type": "code",
   "execution_count": 12,
   "metadata": {
    "tags": []
   },
   "outputs": [
    {
     "output_type": "stream",
     "name": "stdout",
     "text": "Player John has 0 cards.\n"
    }
   ],
   "source": [
    "new_player = Player('John')\n",
    "print(new_player)"
   ]
  },
  {
   "cell_type": "code",
   "execution_count": 13,
   "metadata": {
    "tags": []
   },
   "outputs": [
    {
     "output_type": "stream",
     "name": "stdout",
     "text": "Player John has 1 cards.\n"
    }
   ],
   "source": [
    "new_player.add_cards(my_card)\n",
    "print(new_player)"
   ]
  },
  {
   "cell_type": "code",
   "execution_count": 14,
   "metadata": {
    "tags": []
   },
   "outputs": [
    {
     "output_type": "stream",
     "name": "stdout",
     "text": "Player John has 3 cards.\n"
    }
   ],
   "source": [
    "new_player.add_cards([my_card, my_card])\n",
    "print(new_player)"
   ]
  },
  {
   "cell_type": "code",
   "execution_count": 15,
   "metadata": {
    "tags": []
   },
   "outputs": [
    {
     "output_type": "stream",
     "name": "stdout",
     "text": "King of Spades\n"
    }
   ],
   "source": [
    "print(new_player.remove_one())"
   ]
  },
  {
   "cell_type": "code",
   "execution_count": 22,
   "metadata": {},
   "outputs": [],
   "source": [
    "# GAME setup\n",
    "player1 = Player(\"One\")\n",
    "player2 = Player(\"Two\")\n",
    "new_deck = Deck()\n",
    "new_deck.shuffle()\n",
    "\n",
    "\n",
    "for x in range(26):\n",
    "    player1.add_cards(new_deck.deal_one())\n",
    "    player2.add_cards(new_deck.deal_one())\n"
   ]
  },
  {
   "cell_type": "code",
   "execution_count": 23,
   "metadata": {
    "tags": []
   },
   "outputs": [],
   "source": [
    "game_on = True"
   ]
  },
  {
   "cell_type": "code",
   "execution_count": 24,
   "metadata": {
    "tags": []
   },
   "outputs": [
    {
     "output_type": "stream",
     "name": "stdout",
     "text": "Round 1\nRound 2\nWAR!\nRound 3\nRound 4\nWAR!\nRound 5\nRound 6\nRound 7\nRound 8\nRound 9\nRound 10\nRound 11\nRound 12\nRound 13\nRound 14\nRound 15\nRound 16\nRound 17\nRound 18\nRound 19\nRound 20\nRound 21\nRound 22\nRound 23\nRound 24\nRound 25\nRound 26\nRound 27\nRound 28\nRound 29\nRound 30\nWAR!\nRound 31\nRound 32\nRound 33\nRound 34\nRound 35\nRound 36\nRound 37\nRound 38\nRound 39\nWAR!\nRound 40\nRound 41\nRound 42\nRound 43\nRound 44\nRound 45\nRound 46\nRound 47\nRound 48\nRound 49\nRound 50\nRound 51\nRound 52\nRound 53\nRound 54\nRound 55\nRound 56\nRound 57\nRound 58\nRound 59\nRound 60\nRound 61\nRound 62\nRound 63\nWAR!\nRound 64\nRound 65\nRound 66\nRound 67\nRound 68\nRound 69\nRound 70\nRound 71\nRound 72\nRound 73\nRound 74\nRound 75\nRound 76\nRound 77\nRound 78\nRound 79\nRound 80\nRound 81\nRound 82\nRound 83\nRound 84\nRound 85\nRound 86\nRound 87\nRound 88\nRound 89\nRound 90\nRound 91\nRound 92\nRound 93\nRound 94\nRound 95\nRound 96\nRound 97\nRound 98\nRound 99\nRound 100\nRound 101\nRound 102\nRound 103\nRound 104\nRound 105\nRound 106\nRound 107\nRound 108\nRound 109\nRound 110\nRound 111\nRound 112\nWAR!\nRound 113\nRound 114\nRound 115\nRound 116\nRound 117\nRound 118\nRound 119\nRound 120\nRound 121\nRound 122\nRound 123\nRound 124\nRound 125\nRound 126\nRound 127\nRound 128\nRound 129\nRound 130\nRound 131\nRound 132\nRound 133\nRound 134\nWAR!\nPlayer One unable to play war! Game Over at War\nPlayer Two Wins! Player One Loses!\n"
    }
   ],
   "source": [
    "round_num = 0\n",
    "while game_on:\n",
    "    \n",
    "    round_num += 1\n",
    "    print(f\"Round {round_num}\")\n",
    "    \n",
    "    # Check to see if a player is out of cards:\n",
    "    if len(player1.all_cards) == 0:\n",
    "        print(\"Player One out of cards! Game Over\")\n",
    "        print(\"Player Two Wins!\")\n",
    "        game_on = False\n",
    "        break\n",
    "        \n",
    "    if len(player2.all_cards) == 0:\n",
    "        print(\"Player Two out of cards! Game Over\")\n",
    "        print(\"Player One Wins!\")\n",
    "        game_on = False\n",
    "        break\n",
    "    \n",
    "    # Otherwise, the game is still on!\n",
    "    \n",
    "    # Start a new round and reset current cards \"on the table\"\n",
    "    player1_cards = []\n",
    "    player1_cards.append(player1.remove_one())\n",
    "    \n",
    "    player2_cards = []\n",
    "    player2_cards.append(player2.remove_one())\n",
    "    \n",
    "    at_war = True\n",
    "\n",
    "    while at_war:\n",
    "\n",
    "\n",
    "        if player1_cards[-1].value > player2_cards[-1].value:\n",
    "\n",
    "            # Player One gets the cards\n",
    "            player1.add_cards(player1_cards)\n",
    "            player1.add_cards(player2_cards)\n",
    "            \n",
    "            \n",
    "            # No Longer at \"war\" , time for next round\n",
    "            at_war = False\n",
    "        \n",
    "        # Player Two Has higher Card\n",
    "        elif player1_cards[-1].value < player2_cards[-1].value:\n",
    "\n",
    "            # Player Two gets the cards\n",
    "            player2.add_cards(player1_cards)\n",
    "            player2.add_cards(player2_cards)\n",
    "            \n",
    "            # No Longer at \"war\" , time for next round\n",
    "            at_war = False\n",
    "\n",
    "        else:\n",
    "            print('WAR!')\n",
    "            # This occurs when the cards are equal.\n",
    "            # We'll grab another card each and continue the current war.\n",
    "            \n",
    "            # First check to see if player has enough cards\n",
    "            \n",
    "            # Check to see if a player is out of cards:\n",
    "            if len(player1.all_cards) < 5:\n",
    "                print(\"Player One unable to play war! Game Over at War\")\n",
    "                print(\"Player Two Wins! Player One Loses!\")\n",
    "                game_on = False\n",
    "                break\n",
    "\n",
    "            elif len(player2.all_cards) < 5:\n",
    "                print(\"Player Two unable to play war! Game Over at War\")\n",
    "                print(\"Player One Wins! Player Two Loses!\")\n",
    "                game_on = False\n",
    "                break\n",
    "            # Otherwise, we're still at war, so we'll add the next cards\n",
    "            else:\n",
    "                for num in range(5):\n",
    "                    player1_cards.append(player1.remove_one())\n",
    "                    player2_cards.append(player2.remove_one())"
   ]
  },
  {
   "cell_type": "code",
   "execution_count": null,
   "metadata": {},
   "outputs": [],
   "source": []
  }
 ]
}